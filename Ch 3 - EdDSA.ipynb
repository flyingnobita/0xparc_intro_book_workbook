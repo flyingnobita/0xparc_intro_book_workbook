{
 "cells": [
  {
   "cell_type": "markdown",
   "metadata": {},
   "source": [
    "# 3 SNARKs Prelude: Elliptic Curves and Polynomial Commitments\n",
    "\n",
    "## 3.2.2 EdDSA Signature Scheme"
   ]
  },
  {
   "cell_type": "code",
   "execution_count": 23,
   "metadata": {},
   "outputs": [],
   "source": [
    "import random\n",
    "import hashlib"
   ]
  },
  {
   "cell_type": "markdown",
   "metadata": {
    "vscode": {
     "languageId": "plaintext"
    }
   },
   "source": [
    "### Setup edwards25519 curve"
   ]
  },
  {
   "cell_type": "code",
   "execution_count": 24,
   "metadata": {},
   "outputs": [
    {
     "name": "stdout",
     "output_type": "stream",
     "text": [
      "Q: (15112221349535400772501151409588531511454012693041857206046113283949847762202, 46316835694926478169428394003475163141307993866256225615783033603165251855960)\n"
     ]
    }
   ],
   "source": [
    "# The curve parameters for edwards25519, Twisted Edwards curve\n",
    "# p: The prime field characteristic (2^255 - 19)\n",
    "# q: The prime order of the base point (number of points in the subgroup)\n",
    "p = 2**255 - 19\n",
    "q = 2**252 + 277423177773723535340499608640600641176714606484999\n",
    "# a, d: Curve coefficients for the equation: ax^2 + y^2 = 1 + dx^2y^2\n",
    "a = -1\n",
    "d = -(121665 * pow(121666, -1, p))\n",
    "\n",
    "# Define the base point Q\n",
    "\n",
    "# The standard base point Q(x, y) for Ed25519 is based on the standard base point\n",
    "# P for the X25519 Diffie-Hellman function.\n",
    "# P(u, v) = (9, v) where we only care about the x-coordinate, u.\n",
    "# Q(x, y) where y(Q) = (u(P) - 1) / (u(P) + 1)\n",
    "u_P = 9\n",
    "y_Q = (u_P - 1) * pow(u_P + 1, -1, p)\n",
    "\n",
    "# x(Q) is calculated from y(Q) using the curve equation\n",
    "x_Q = 15112221349535400772501151409588531511454012693041857206046113283949847762202\n",
    "\n",
    "# Verify base point Q with the curve equation\n",
    "assert (-(x_Q**2) + (y_Q**2)) % p == (1 + d * (x_Q**2) * (y_Q**2)) % p\n",
    "\n",
    "# Base point Q\n",
    "Q = (x_Q, y_Q)\n",
    "\n",
    "print(\"Q:\", Q)"
   ]
  },
  {
   "cell_type": "markdown",
   "metadata": {
    "vscode": {
     "languageId": "plaintext"
    }
   },
   "source": [
    "### Helper functions"
   ]
  },
  {
   "cell_type": "code",
   "execution_count": 25,
   "metadata": {},
   "outputs": [],
   "source": [
    "# Addition of two points on the curve\n",
    "# Reference: https://en.wikipedia.org/wiki/Twisted_Edwards_curve\n",
    "def points_addition(P1, P2):\n",
    "    \"\"\"Add two points on the edwards25519 curve using the twisted Edwards addition formula:\n",
    "    x3 = (x1y2 + y1x2) / (1 + dx1x2y1y2)\n",
    "    y3 = (y1y2 - ax1x2) / (1 - dx1x2y1y2)\n",
    "    \"\"\"\n",
    "    x_P1, y_P1 = P1\n",
    "    x_P2, y_P2 = P2\n",
    "\n",
    "    x_result = (\n",
    "        ((x_P1 * y_P2 + y_P1 * x_P2) % p)\n",
    "        * pow(1 + d * x_P1 * x_P2 * y_P1 * y_P2, -1, p)\n",
    "    ) % p\n",
    "    y_result = (\n",
    "        ((y_P1 * y_P2 - a * x_P1 * x_P2) % p)\n",
    "        * pow(1 - d * x_P1 * x_P2 * y_P1 * y_P2, -1, p)\n",
    "    ) % p\n",
    "\n",
    "    # ensure the new point is fits the curve equation:\n",
    "    # (a * x^2 + y^2) mod p = (1 + d * x^2 * y^2) mod p\n",
    "    assert (a * x_result * x_result + y_result * y_result) % p == (\n",
    "        1 + d * x_result * x_result * y_result * y_result\n",
    "    ) % p\n",
    "\n",
    "    return (x_result, y_result)\n",
    "\n",
    "\n",
    "# Multiplication of a point on the curve with a scalar using the double-and-add algorithm\n",
    "# Reference: https://en.wikipedia.org/wiki/Elliptic_curve_point_multiplication#Double-and-add\n",
    "def points_multiplication(point, scalar):\n",
    "    \"\"\"Multiply a point by a scalar using the double-and-add algorithm:\n",
    "    1. Convert scalar to binary\n",
    "    2. For each bit:\n",
    "       - Double the accumulated point\n",
    "       - If bit is 1, add the base point\n",
    "    3. Return the final accumulated point\n",
    "    \"\"\"\n",
    "    if scalar == 0:\n",
    "        return (0, 1)  # Return point at infinity (neutral element)\n",
    "\n",
    "    result = None\n",
    "    scalar_in_binary = bin(scalar)[2:]  # convert scalar to binary, removing '0b' prefix\n",
    "\n",
    "    for bit in scalar_in_binary:\n",
    "        # double\n",
    "        if result is not None:\n",
    "            result = points_addition(result, result)\n",
    "        else:\n",
    "            result = point\n",
    "\n",
    "        # add if the current bit is 1\n",
    "        if bit == \"1\" and result != point:\n",
    "            result = points_addition(result, point)\n",
    "\n",
    "    # ensure the new point is fits the curve equation:\n",
    "    # (a * x^2 + y^2) mod p = (1 + d * x^2 * y^2) mod p\n",
    "    assert (a * result[0] * result[0] + result[1] * result[1]) % p == (\n",
    "        1 + d * result[0] * result[0] * result[1] * result[1]\n",
    "    ) % p\n",
    "\n",
    "    return result"
   ]
  },
  {
   "cell_type": "markdown",
   "metadata": {
    "vscode": {
     "languageId": "plaintext"
    }
   },
   "source": [
    "### Algorithm 3.9: Public and Secret Keys"
   ]
  },
  {
   "cell_type": "code",
   "execution_count": 26,
   "metadata": {},
   "outputs": [
    {
     "name": "stdout",
     "output_type": "stream",
     "text": [
      "private_key: 3153574600932793152281958363138914036570064553439134573135179676477281098182\n",
      "public_key: (29724945251594803203597254719012175393067933512123545917750100119621653424164, 37091866691443199628795373593934514649454354169926021687281940486208042785082)\n"
     ]
    }
   ],
   "source": [
    "# Generate a random private key (scalar) and compute the corresponding public key\n",
    "# public_key = [private_key]Q where Q is the base point\n",
    "randomness_bit_size = 252\n",
    "private_key = random.getrandbits(randomness_bit_size)\n",
    "public_key = points_multiplication(Q, private_key)\n",
    "\n",
    "print(\"private_key:\", private_key)\n",
    "print(\"public_key:\", public_key)"
   ]
  },
  {
   "cell_type": "markdown",
   "metadata": {
    "vscode": {
     "languageId": "plaintext"
    }
   },
   "source": [
    "### Algorithm 3.10: EdDSA Signature Generation"
   ]
  },
  {
   "cell_type": "code",
   "execution_count": 27,
   "metadata": {},
   "outputs": [
    {
     "name": "stdout",
     "output_type": "stream",
     "text": [
      "signature: ((23721161687581962056338265235324214179947852072049714593039211440545852870238, 19900344103835097724882228334474661117522719780240941308178570010301820553969), 4148982233437396718842457611113168752500326977828330517583014016339240794577245759433396136719158273471190794755200156693100228614863736455768916896685)\n"
     ]
    }
   ],
   "source": [
    "# The signature consists of two parts:\n",
    "# 1. r_public: A point [r]Q where r is a random scalar\n",
    "# 2. s: A scalar computed as r + (private_key * hash(r_public || message || public_key))\n",
    "message = \"Hello world\"\n",
    "\n",
    "#### Step 1: Generate random scalar r ∈ 𝔽𝑞 and publishes [r] ∈ 𝔽𝑞\n",
    "r_secret = random.getrandbits(randomness_bit_size)\n",
    "r_public = points_multiplication(Q, r_secret)\n",
    "\n",
    "#### Step 2: Generate a number n ∈ 𝔽𝑞 by hashing the message with all public information\n",
    "n = (\n",
    "    int(\n",
    "        hashlib.sha256(\n",
    "            (str(r_public) + str(message) + str(public_key)).encode(\"utf-8\")\n",
    "        ).hexdigest(),\n",
    "        16,\n",
    "    )\n",
    "    % q\n",
    ")\n",
    "\n",
    "#### Step 3: Compute integer s := (r + d * n) mod q\n",
    "s = r_secret + private_key * n\n",
    "\n",
    "#### Signature is ready\n",
    "signature = (r_public, s)\n",
    "\n",
    "print(\"signature:\", signature)"
   ]
  },
  {
   "cell_type": "markdown",
   "metadata": {
    "vscode": {
     "languageId": "plaintext"
    }
   },
   "source": [
    "### Algorithm 3.11: EdDSA Signature Verification"
   ]
  },
  {
   "cell_type": "code",
   "execution_count": 28,
   "metadata": {},
   "outputs": [
    {
     "name": "stdout",
     "output_type": "stream",
     "text": [
      "Signature verification passed\n"
     ]
    }
   ],
   "source": [
    "# Verify the signature by checking:\n",
    "# [s]Q = [r]Q + [hash(r_public || message || public_key)]public_key\n",
    "# This proves the signer knows the private key without revealing it\n",
    "\n",
    "#### Step 1: Compute n = hash(r_public, message, public_key)\n",
    "n_verification = (\n",
    "    int(\n",
    "        hashlib.sha256(\n",
    "            (str(r_public) + str(message) + str(public_key)).encode(\"utf-8\")\n",
    "        ).hexdigest(),\n",
    "        16,\n",
    "    )\n",
    "    % q\n",
    ")\n",
    "\n",
    "# Compute [s] ∈ 𝐸\n",
    "s_armored = points_multiplication(Q, s)\n",
    "\n",
    "#### Step 2: Verify [r] + n * public_key == [s]\n",
    "n_mul_public_key = points_multiplication(public_key, n_verification)\n",
    "lhs = points_addition(r_public, n_mul_public_key)\n",
    "rhs = s_armored\n",
    "\n",
    "assert lhs[0] == rhs[0]\n",
    "assert lhs[1] == rhs[1]\n",
    "\n",
    "print(\"Signature verification passed\")"
   ]
  }
 ],
 "metadata": {
  "kernelspec": {
   "display_name": "python-3.12",
   "language": "python",
   "name": "python3"
  },
  "language_info": {
   "codemirror_mode": {
    "name": "ipython",
    "version": 3
   },
   "file_extension": ".py",
   "mimetype": "text/x-python",
   "name": "python",
   "nbconvert_exporter": "python",
   "pygments_lexer": "ipython3",
   "version": "3.12.6"
  }
 },
 "nbformat": 4,
 "nbformat_minor": 2
}
