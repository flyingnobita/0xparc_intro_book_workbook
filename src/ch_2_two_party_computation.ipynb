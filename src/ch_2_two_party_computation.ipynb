{
 "cells": [
  {
   "cell_type": "markdown",
   "id": "831a056b",
   "metadata": {},
   "source": [
    "# 2 Two-party Computation"
   ]
  },
  {
   "cell_type": "markdown",
   "id": "ee7e7ca5",
   "metadata": {},
   "source": [
    "### 2.1.3 Garbled gates"
   ]
  },
  {
   "cell_type": "code",
   "execution_count": 8,
   "id": "6aacba30-718a-4daa-9ff2-ad5612f0f07e",
   "metadata": {},
   "outputs": [
    {
     "data": {
      "text/html": [
       "<video src=\"../assets/SingleGarbledGateAnimation.mp4\" controls loop autoplay  width=\"800\" >\n",
       "      Your browser does not support the <code>video</code> element.\n",
       "    </video>"
      ],
      "text/plain": [
       "<IPython.core.display.Video object>"
      ]
     },
     "execution_count": 8,
     "metadata": {},
     "output_type": "execute_result"
    }
   ],
   "source": [
    "from IPython.display import Video\n",
    "\n",
    "Video(\"../assets/SingleGarbledGateAnimation.mp4\", width=800, html_attributes=\"controls loop autoplay\")"
   ]
  },
  {
   "cell_type": "code",
   "execution_count": 48,
   "id": "c0e06e8b-0ed3-4b99-9977-bdcdfcf26c03",
   "metadata": {},
   "outputs": [],
   "source": [
    "import random\n",
    "from hashlib import sha3_256\n",
    "from typing import Dict, List, Tuple, Union\n",
    "\n",
    "from ch_2_elgamal import ElGamal\n",
    "from utils import extend_byte_with_leading_zeros"
   ]
  },
  {
   "cell_type": "markdown",
   "id": "fdf644f9",
   "metadata": {},
   "source": [
    "Setup ElGamal, our encryption scheme used for this chapter"
   ]
  },
  {
   "cell_type": "code",
   "execution_count": 49,
   "id": "fff7fbfc",
   "metadata": {},
   "outputs": [
    {
     "name": "stdout",
     "output_type": "stream",
     "text": [
      "public_key:  (24897712447585909434823817135720573090714840808281803493514005115952840483060913726585166257363719704341729956557757, 17836425457584195397430041875420397061343126025043914518615755095165749183329178850617252417669020750878541864240534, 21213125885713530100777680454428383578784974790455632390860163926238171894550377834078358653525985156995729251240248)\n",
      "private_key:  16005912432801423797046556776208669613022487740398300167865285187877705762447290424462428542350165860648328965584727\n"
     ]
    }
   ],
   "source": [
    "# Create a new ElGamal encryption object and generate keys\n",
    "elgamal = ElGamal()\n",
    "public_key, private_key = elgamal.generate_keys()\n",
    "print(\"public_key: \", public_key)\n",
    "print(\"private_key: \", private_key)"
   ]
  },
  {
   "cell_type": "markdown",
   "id": "314e861e",
   "metadata": {},
   "source": [
    "#### Using a XOR gate as an example"
   ]
  },
  {
   "cell_type": "markdown",
   "id": "27563532",
   "metadata": {},
   "source": [
    "Create an input array of 2-bits: (x, y)"
   ]
  },
  {
   "cell_type": "code",
   "execution_count": 50,
   "id": "880a792c-03e0-417d-be66-72db0b1321a9",
   "metadata": {},
   "outputs": [
    {
     "name": "stdout",
     "output_type": "stream",
     "text": [
      "input_array:  ['00', '01', '10', '11']\n"
     ]
    }
   ],
   "source": [
    "input_x_array = [0, 1]\n",
    "input_y_array = [0, 1]\n",
    "input_array = [f\"{x}{y}\" for x in input_x_array for y in input_y_array]\n",
    "print(\"input_array: \", input_array)"
   ]
  },
  {
   "cell_type": "markdown",
   "id": "971b9585",
   "metadata": {},
   "source": [
    "Compute the output of the XOR gate"
   ]
  },
  {
   "cell_type": "code",
   "execution_count": 51,
   "id": "c13706dc",
   "metadata": {},
   "outputs": [
    {
     "name": "stdout",
     "output_type": "stream",
     "text": [
      "plain_xor_gate_outputs:  ['0', '1', '1', '0']\n"
     ]
    }
   ],
   "source": [
    "def xor_gate(x: str, y: str) -> str:\n",
    "    \"\"\"Compute XOR of two binary inputs.\n",
    "\n",
    "    Args:\n",
    "        x: First binary input ('0' or '1').\n",
    "        y: Second binary input ('0' or '1').\n",
    "\n",
    "    Returns:\n",
    "        XOR result as '0' or '1'.\n",
    "    \"\"\"\n",
    "    return \"0\" if x == y else \"1\"\n",
    "\n",
    "# Store the output of the XOR gate for each input\n",
    "plain_xor_gate_outputs = [xor_gate(x, y) for x in input_x_array for y in input_y_array]\n",
    "print(\"plain_xor_gate_outputs: \", plain_xor_gate_outputs)"
   ]
  },
  {
   "cell_type": "markdown",
   "id": "8afd943c",
   "metadata": {},
   "source": [
    "Generate a basic garbled gate based on a plain gate output"
   ]
  },
  {
   "cell_type": "code",
   "execution_count": 52,
   "id": "07b99595",
   "metadata": {},
   "outputs": [
    {
     "name": "stdout",
     "output_type": "stream",
     "text": [
      "public_keys_garbled_gate:  [(24897712447585909434823817135720573090714840808281803493514005115952840483060913726585166257363719704341729956557757, 17836425457584195397430041875420397061343126025043914518615755095165749183329178850617252417669020750878541864240534, 12271505632222886956450687858232693174025106067031147887924790214072428847577142929500792455445344039385117855980935), (24897712447585909434823817135720573090714840808281803493514005115952840483060913726585166257363719704341729956557757, 17836425457584195397430041875420397061343126025043914518615755095165749183329178850617252417669020750878541864240534, 7540191728849193717782981785556199742424170565623908718309468090556301809032772657770226037630708370180117722851707), (24897712447585909434823817135720573090714840808281803493514005115952840483060913726585166257363719704341729956557757, 17836425457584195397430041875420397061343126025043914518615755095165749183329178850617252417669020750878541864240534, 20592153970238978820133038702486427186245796202728626729172664273970600833905456360604968446666534996074544570562947), (24897712447585909434823817135720573090714840808281803493514005115952840483060913726585166257363719704341729956557757, 17836425457584195397430041875420397061343126025043914518615755095165749183329178850617252417669020750878541864240534, 6018818263931840909296548639896108857240360552502614663927976424934590109222829102448330397249291441713373923252094)]\n",
      "private_keys_garbled_gate:  [18189067666379274599751979076522966068458792224168414287854851140038500767992338068436330033593740090904275587953667, 23622658622676801732555439653026148768825074104881229089226767353556074817882050418423366193305457138743104171312059, 16719833920957740582873609678530391181027797879336860482619909737668283921030435852535329799325663366983359290457349, 13438924056691648141057719265384230915704616893737148180329950114152473313075908812005351457075221592600311206872596]\n",
      "outputs_garbled_gate:  [[(7267044743226993814323930684602182871108757679894465637650357154533311981897345546926303326478733684401062534280372, 21531937044792200524097188782105897924321130839231483450202200584692229463295882907073323365625891410169985783574335)], [(17446996169907282359376293580380578966070041124591989855814177658322001838870106678391353001624505799302625050759779, 17090680971424727197485329113021910043742817916747830058685634204938034086751371262672064552525986634660779509183363)], [(965536231653004105981728556541730675103691702471829134999413122643804142054990026485039683694729286718927517293263, 6829294554189999898032354756179773578715797966566313002400172054797368817264495250246008684429579801215508828852270)], [(10975086813425956605724194309490315899856779117750267396692706800941351347401179860299882799200003523488817794720831, 2387373297779357609221171907763733191277029451644031450153404217279360193409435137130935442016593332368013854726998)]]\n"
     ]
    }
   ],
   "source": [
    "def construct_garble_gate(\n",
    "    plain_gate_outputs: List[str],\n",
    "    elgamal: ElGamal,\n",
    ") -> Tuple[List[Tuple[int, int, int]], List[int], List[Tuple[int, int]]]:\n",
    "    \"\"\"Construct a garbled gate from plain gate outputs.\n",
    "\n",
    "    Args:\n",
    "        plain_gate_outputs: List of plain gate outputs ('0' or '1').\n",
    "        elgamal: ElGamal object.\n",
    "\n",
    "    Returns:\n",
    "        Tuple containing (public_keys, private_keys, ciphertexts).\n",
    "    \"\"\"\n",
    "\n",
    "    ciphertexts = []\n",
    "    public_keys = []\n",
    "    private_keys = []\n",
    "\n",
    "    # Generate ciphertext for each gate output\n",
    "    for message_index in range(len(plain_gate_outputs)):\n",
    "        # Convert the input to bytes\n",
    "        data = plain_gate_outputs[message_index]\n",
    "\n",
    "        # Generate a random key for each input and save it to the password array\n",
    "        public_key, private_key = elgamal.generate_keys_from_prime(elgamal.p, elgamal.g)\n",
    "        public_keys.append(public_key)\n",
    "        private_keys.append(private_key)\n",
    "\n",
    "        # Encrypt the data using the public key\n",
    "        ciphertext = elgamal.encrypt(data, public_key)\n",
    "\n",
    "        # Save the ciphertext to the arrays\n",
    "        ciphertexts.append(ciphertext)\n",
    "\n",
    "    return public_keys, private_keys, ciphertexts\n",
    "\n",
    "public_keys_garbled_gate, private_keys_garbled_gate, outputs_garbled_gate = (\n",
    "    construct_garble_gate(plain_xor_gate_outputs, elgamal)\n",
    ")\n",
    "\n",
    "print(\"public_keys_garbled_gate: \", public_keys_garbled_gate)\n",
    "print(\"private_keys_garbled_gate: \", private_keys_garbled_gate)\n",
    "print(\"outputs_garbled_gate: \", outputs_garbled_gate)"
   ]
  },
  {
   "cell_type": "markdown",
   "id": "02fe2b89",
   "metadata": {},
   "source": [
    "#### Find the output of the garbled gate from a chosen input"
   ]
  },
  {
   "cell_type": "code",
   "execution_count": 53,
   "id": "bea7c002",
   "metadata": {},
   "outputs": [],
   "source": [
    "chosen_input = \"11\""
   ]
  },
  {
   "cell_type": "markdown",
   "id": "0209cd0a",
   "metadata": {},
   "source": [
    "Lookup the index for the chosen input"
   ]
  },
  {
   "cell_type": "code",
   "execution_count": 54,
   "id": "c1399c38",
   "metadata": {},
   "outputs": [
    {
     "name": "stdout",
     "output_type": "stream",
     "text": [
      "index_chosen_input:  3\n"
     ]
    }
   ],
   "source": [
    "index_chosen_input = input_array.index(chosen_input)\n",
    "print(\"index_chosen_input: \", index_chosen_input)"
   ]
  },
  {
   "cell_type": "markdown",
   "id": "c0ef89b9",
   "metadata": {},
   "source": [
    "Get the public key, private key, and ciphertext for the chosen input"
   ]
  },
  {
   "cell_type": "code",
   "execution_count": 55,
   "id": "ebecf392",
   "metadata": {},
   "outputs": [
    {
     "name": "stdout",
     "output_type": "stream",
     "text": [
      "public_key_chosen_input:  (24897712447585909434823817135720573090714840808281803493514005115952840483060913726585166257363719704341729956557757, 17836425457584195397430041875420397061343126025043914518615755095165749183329178850617252417669020750878541864240534, 6018818263931840909296548639896108857240360552502614663927976424934590109222829102448330397249291441713373923252094)\n",
      "private_key_chosen_input:  13438924056691648141057719265384230915704616893737148180329950114152473313075908812005351457075221592600311206872596\n",
      "ciphertext_chosen_input:  [(10975086813425956605724194309490315899856779117750267396692706800941351347401179860299882799200003523488817794720831, 2387373297779357609221171907763733191277029451644031450153404217279360193409435137130935442016593332368013854726998)]\n"
     ]
    }
   ],
   "source": [
    "public_key_chosen_input = public_keys_garbled_gate[index_chosen_input]\n",
    "private_key_chosen_input = private_keys_garbled_gate[index_chosen_input]\n",
    "ciphertext_chosen_input = outputs_garbled_gate[index_chosen_input]\n",
    "\n",
    "print(\"public_key_chosen_input: \", public_key_chosen_input)\n",
    "print(\"private_key_chosen_input: \", private_key_chosen_input)\n",
    "print(\"ciphertext_chosen_input: \", ciphertext_chosen_input)"
   ]
  },
  {
   "cell_type": "markdown",
   "id": "0fe5ec1a",
   "metadata": {},
   "source": [
    "Decrypt the ciphertext to get our gate output"
   ]
  },
  {
   "cell_type": "code",
   "execution_count": 56,
   "id": "4c5da42f",
   "metadata": {},
   "outputs": [],
   "source": [
    "gate_output = elgamal.decrypt(\n",
    "    ciphertext=ciphertext_chosen_input,\n",
    "    private_key=private_key_chosen_input,\n",
    "    output_bytes=False,\n",
    ")"
   ]
  },
  {
   "cell_type": "markdown",
   "id": "4de22786",
   "metadata": {},
   "source": [
    "Check that the output is correct"
   ]
  },
  {
   "cell_type": "code",
   "execution_count": 57,
   "id": "a79b1149",
   "metadata": {},
   "outputs": [
    {
     "name": "stdout",
     "output_type": "stream",
     "text": [
      "gate_output: 0\n",
      "plain_xor_gate_outputs[index_chosen_input]: 0\n"
     ]
    }
   ],
   "source": [
    "print(f\"gate_output: {gate_output}\")\n",
    "print(\n",
    "    f\"plain_xor_gate_outputs[index_chosen_input]: {plain_xor_gate_outputs[index_chosen_input]}\"\n",
    ")\n",
    "assert gate_output == plain_xor_gate_outputs[index_chosen_input]"
   ]
  },
  {
   "cell_type": "markdown",
   "id": "c7330f37",
   "metadata": {},
   "source": [
    "### 2.1.4 Chaining garbled gates"
   ]
  },
  {
   "cell_type": "markdown",
   "id": "53a73659",
   "metadata": {},
   "source": [
    "Hash function to combine the two inputs"
   ]
  },
  {
   "cell_type": "code",
   "execution_count": 58,
   "id": "cf464f6f",
   "metadata": {},
   "outputs": [],
   "source": [
    "def hash_function(x: bytes, y: bytes) -> bytes:\n",
    "    \"\"\"Combine two inputs using SHA3-256 hash.\n",
    "\n",
    "    Args:\n",
    "        x: First input bytes.\n",
    "        y: Second input bytes.\n",
    "\n",
    "    Returns:\n",
    "        Combined hash digest.\n",
    "    \"\"\"\n",
    "    hash_object = sha3_256()\n",
    "    # Update the hash object with the bytes of the input\n",
    "    hash_object.update(x)\n",
    "    hash_object.update(y)\n",
    "    \n",
    "    return hash_object.digest()"
   ]
  },
  {
   "cell_type": "markdown",
   "id": "aa09b606",
   "metadata": {},
   "source": [
    "Generate passwords for all inputs and bits combination"
   ]
  },
  {
   "cell_type": "code",
   "execution_count": 59,
   "id": "d620c94f",
   "metadata": {},
   "outputs": [
    {
     "name": "stdout",
     "output_type": "stream",
     "text": [
      "bit_passwords.keys():  dict_keys(['x_0', 'x_1', 'y_0', 'y_1', 'z_0', 'z_1', 'out_0', 'out_1'])\n"
     ]
    }
   ],
   "source": [
    "password_bit_length = 128\n",
    "\n",
    "bit_passwords = {\n",
    "    f\"{var}_{bit}\": random.randrange(2, ((1 << password_bit_length) - 1)).to_bytes(\n",
    "        password_bit_length, \"big\"\n",
    "    )\n",
    "    for var in [\"x\", \"y\", \"z\", \"out\"]\n",
    "    for bit in [\"0\", \"1\"]\n",
    "}\n",
    "\n",
    "print(\"bit_passwords.keys(): \", bit_passwords.keys())"
   ]
  },
  {
   "cell_type": "markdown",
   "id": "ae0666e4",
   "metadata": {},
   "source": [
    "Construct Intermediate Garbled gate: AND(x, y)"
   ]
  },
  {
   "cell_type": "code",
   "execution_count": 60,
   "id": "8bf90cdd",
   "metadata": {},
   "outputs": [],
   "source": [
    "def construct_intermediate_garbled_and_gate(\n",
    "    bit_passwords: Dict[str, bytes], elgamal: ElGamal\n",
    ") -> Dict[bytes, Tuple[int, int]]:\n",
    "    \"\"\"Construct an intermediate garbled AND gate using ElGamal encryption.\n",
    "\n",
    "    This function creates a garbled AND gate by encrypting output bit passwords\n",
    "    For each possible input combination of (x_bit, y_bit), it:\n",
    "    1. Computes a hash of the input passwords as a lookup key\n",
    "    2. Computes the AND of the input bits\n",
    "    3. Combines passwords and generates a public key from it\n",
    "    4. Encrypts the output using ElGamal\n",
    "\n",
    "\n",
    "    Args:\n",
    "        bit_passwords: Dictionary mapping bit labels (e.g. \"x_0\", \"y_1\") to their password bytes\n",
    "        elgamal: ElGamal encryption instance to use for encryption\n",
    "\n",
    "    Returns:\n",
    "        Dictionary mapping hash keys to encrypted output passwords (ElGamal ciphertexts)\n",
    "    \"\"\"\n",
    "    intermediate_garbled_gate = {}\n",
    "    for x_bit in [0, 1]:\n",
    "        for y_bit in [0, 1]:\n",
    "            # Compute hash of input passwords\n",
    "            hash_key = hash_function(\n",
    "                bit_passwords[f\"x_{x_bit}\"], bit_passwords[f\"y_{y_bit}\"]\n",
    "            )\n",
    "\n",
    "            # Compute AND gate output as bytes\n",
    "            output_bit_password = bit_passwords[f\"out_{x_bit & y_bit}\"]\n",
    "\n",
    "            # Combine the 2 passwords as the new password and generate the public key\n",
    "            password = (\n",
    "                int.from_bytes(bit_passwords[f\"x_{x_bit}\"], \"big\")\n",
    "                + int.from_bytes(bit_passwords[f\"y_{y_bit}\"], \"big\")\n",
    "            ) % elgamal.p\n",
    "            public_key = elgamal.generate_public_key(password)\n",
    "\n",
    "            # Encrypt the output\n",
    "            ciphertext = elgamal.encrypt(\n",
    "                message=output_bit_password, public_key=public_key\n",
    "            )\n",
    "\n",
    "            intermediate_garbled_gate[hash_key] = ciphertext\n",
    "\n",
    "    return intermediate_garbled_gate\n",
    "\n",
    "\n",
    "and_garbled_gate = construct_intermediate_garbled_and_gate(bit_passwords, elgamal)"
   ]
  },
  {
   "cell_type": "markdown",
   "id": "160cdf92",
   "metadata": {},
   "source": [
    "### 2.1.5 How Bob uses one gate"
   ]
  },
  {
   "cell_type": "code",
   "execution_count": 61,
   "id": "00ff53b7",
   "metadata": {},
   "outputs": [],
   "source": [
    "# Using the AND gate as an example\n",
    "# \n",
    "#                AND\n",
    "#   P_left  x ---.\n",
    "#                 )--- P_output_1\n",
    "#   P_right y ---'"
   ]
  },
  {
   "cell_type": "markdown",
   "id": "e6af716c",
   "metadata": {},
   "source": [
    "Lookup the garbled gate for input P_left, P_right"
   ]
  },
  {
   "cell_type": "code",
   "execution_count": 62,
   "id": "2d6bed86",
   "metadata": {},
   "outputs": [],
   "source": [
    "P_left = bit_passwords[\"x_0\"]\n",
    "P_right = bit_passwords[\"y_1\"]"
   ]
  },
  {
   "cell_type": "markdown",
   "id": "0bf146f7",
   "metadata": {},
   "source": [
    "Compute the hash of the input passwords"
   ]
  },
  {
   "cell_type": "code",
   "execution_count": 63,
   "id": "3c0f904f",
   "metadata": {},
   "outputs": [],
   "source": [
    "password_hashed_and_gate = hash_function(P_left, P_right)"
   ]
  },
  {
   "cell_type": "markdown",
   "id": "a1e79d97",
   "metadata": {},
   "source": [
    "Lookup the row in the garbled gate"
   ]
  },
  {
   "cell_type": "code",
   "execution_count": 64,
   "id": "0bf67fcf",
   "metadata": {},
   "outputs": [],
   "source": [
    "ciphertext_and_gate = and_garbled_gate[password_hashed_and_gate]"
   ]
  },
  {
   "cell_type": "markdown",
   "id": "c437f50f",
   "metadata": {},
   "source": [
    "Decrypt the row"
   ]
  },
  {
   "cell_type": "code",
   "execution_count": 65,
   "id": "91fa15f0",
   "metadata": {},
   "outputs": [],
   "source": [
    "# Combine the 2 passwords as the new password\n",
    "password = (int.from_bytes(P_left, \"big\") + int.from_bytes(P_right, \"big\")) % elgamal.p\n",
    "\n",
    "P_output_1 = elgamal.decrypt(\n",
    "    ciphertext=ciphertext_and_gate,\n",
    "    private_key=password,\n",
    "    output_bytes=True,\n",
    ")\n",
    "\n",
    "P_output_1_int = int.from_bytes(P_output_1, \"big\")"
   ]
  },
  {
   "cell_type": "markdown",
   "id": "03c768a3",
   "metadata": {},
   "source": [
    "Check that the output is correct"
   ]
  },
  {
   "cell_type": "code",
   "execution_count": 66,
   "id": "55239f1e",
   "metadata": {},
   "outputs": [
    {
     "name": "stdout",
     "output_type": "stream",
     "text": [
      "P_output_1_int: 315027882747410975558089404140791889885\n",
      "bit_passwords['out_0'] in int: 315027882747410975558089404140791889885\n"
     ]
    }
   ],
   "source": [
    "print(f\"P_output_1_int: {P_output_1_int}\")\n",
    "print(f\"bit_passwords['out_0'] in int: {int.from_bytes(bit_passwords['out_0'], 'big')}\")\n",
    "assert P_output_1_int == int.from_bytes(bit_passwords[\"out_0\"], \"big\")"
   ]
  },
  {
   "cell_type": "markdown",
   "id": "8de52adb",
   "metadata": {},
   "source": [
    "#### Example: How to chain two garbled gates"
   ]
  },
  {
   "cell_type": "code",
   "execution_count": 67,
   "id": "efa14a03",
   "metadata": {},
   "outputs": [],
   "source": [
    "#                 AND\n",
    "#    P_left  x ---.           XOR\n",
    "#                  )--- P_output_1 ---.\n",
    "#    P_right y ---'                    }=--- Output_plaintext\n",
    "#                                     '\n",
    "#    P_z -----------------------------'\n",
    "\n",
    "# -------------------------------  XOR Gate Table -------------------------------\n",
    "# hash(P_0^P_output_1, P_0^z)   | Enc_{P_0^P_output_1, P_0^z}(Output_Plaintext_0)\n",
    "# hash(P_0^P_output_1, P_1^z)   | Enc_{P_0^P_output_1, P_1^z}(Output_Plaintext_1)\n",
    "# hash(P_1^P_output_1, P_1^z)   | Enc_{P_1^P_output_1, P_1^z}(Output_Plaintext_1)\n",
    "# hash(P_1^P_output_1, P_1^z)   | Enc_{P_1^P_output_1, P_1^z}(Output_Plaintext_0)"
   ]
  },
  {
   "cell_type": "markdown",
   "id": "32afa5f1",
   "metadata": {},
   "source": [
    "Construct Final Garbled XOR gate"
   ]
  },
  {
   "cell_type": "code",
   "execution_count": 68,
   "id": "28be7c6d",
   "metadata": {},
   "outputs": [],
   "source": [
    "def construct_final_garbled_xor_gate(\n",
    "    bit_passwords: Dict[str, bytes], elgamal: ElGamal\n",
    ") -> Dict[bytes, Tuple[int, int]]:\n",
    "    \"\"\"Construct a final garbled XOR gate using ElGamal encryption.\n",
    "\n",
    "    This function creates a final garbled XOR gate by encrypting output bit passwords\n",
    "    For each combination of input bits (out_bit and z_bit), it:\n",
    "    1. Computes a hash of the input passwords as a lookup key\n",
    "    2. Computes the XOR of the input bits\n",
    "    3. Combines passwords and generates a public key from it\n",
    "    4. Encrypts the output using ElGamal\n",
    "\n",
    "    Args:\n",
    "        bit_passwords: Dictionary mapping bit labels (e.g. \"x_0\", \"y_1\") to their password bytes\n",
    "        elgamal: ElGamal encryption object used for encryption operations\n",
    "\n",
    "    Returns:\n",
    "        Dictionary mapping hash keys to encrypted gate outputs (ciphertexts)\n",
    "        where each ciphertext is a tuple of (c1, c2) ElGamal components\n",
    "    \"\"\"\n",
    "    final_garbled_gate = {}\n",
    "    for out_bit in [0, 1]:\n",
    "        for z_bit in [0, 1]:\n",
    "            # Compute hash of input passwords\n",
    "            hash_key = hash_function(\n",
    "                bit_passwords[f\"out_{out_bit}\"], bit_passwords[f\"z_{z_bit}\"]\n",
    "            )\n",
    "\n",
    "            # Compute XOR gate output as bytes\n",
    "            output_xor_gate_bytes = (\n",
    "                \"0\".encode(\"utf-8\") if out_bit == z_bit else \"1\".encode(\"utf-8\")\n",
    "            )\n",
    "\n",
    "            # Combine the 2 passwords as the new password and generate the public key\n",
    "            password = (\n",
    "                int.from_bytes(bit_passwords[f\"out_{out_bit}\"], \"big\")\n",
    "                + int.from_bytes(bit_passwords[f\"z_{z_bit}\"], \"big\")\n",
    "            ) % elgamal.p\n",
    "            public_key = elgamal.generate_public_key(password)\n",
    "\n",
    "            # Encrypt the output\n",
    "            ciphertext = elgamal.encrypt(\n",
    "                message=output_xor_gate_bytes, public_key=public_key\n",
    "            )\n",
    "\n",
    "            final_garbled_gate[hash_key] = ciphertext\n",
    "\n",
    "    return final_garbled_gate\n",
    "\n",
    "\n",
    "xor_garbled_gate = construct_final_garbled_xor_gate(bit_passwords, elgamal)"
   ]
  },
  {
   "cell_type": "markdown",
   "id": "7ddc2b39",
   "metadata": {},
   "source": [
    "Lookup the AND garbled gate for input P_0_left, P_1_right"
   ]
  },
  {
   "cell_type": "code",
   "execution_count": 69,
   "id": "0237f8e3",
   "metadata": {},
   "outputs": [],
   "source": [
    "P_left = bit_passwords[\"x_1\"]\n",
    "P_right = bit_passwords[\"y_1\"]\n",
    "P_z = bit_passwords[\"z_1\"]"
   ]
  },
  {
   "cell_type": "markdown",
   "id": "de8e9940",
   "metadata": {},
   "source": [
    "Retrieve the password from the AND garbled gate"
   ]
  },
  {
   "cell_type": "code",
   "execution_count": 70,
   "id": "04e1dcbc",
   "metadata": {},
   "outputs": [],
   "source": [
    "# Compute the hash of the input passwords\n",
    "hash_password_and_gate = hash_function(P_left, P_right)\n",
    "\n",
    "# Lookup the row in the AND garbled gate\n",
    "ciphertext_and_gate = and_garbled_gate[hash_password_and_gate]\n",
    "\n",
    "# Combine the 2 passwords as the new password\n",
    "combined_password_and_gate = (\n",
    "    int.from_bytes(P_left, \"big\") + int.from_bytes(P_right, \"big\")\n",
    ") % elgamal.p\n",
    "\n",
    "# Decrypt the output of the AND garbled gate\n",
    "password_and_gate_output_decrypted = elgamal.decrypt(\n",
    "    ciphertext=ciphertext_and_gate,\n",
    "    private_key=combined_password_and_gate,\n",
    "    output_bytes=True,\n",
    ")"
   ]
  },
  {
   "cell_type": "markdown",
   "id": "e15862d5",
   "metadata": {},
   "source": [
    "Retrieve and decrypt the output of the XOR garbled gate"
   ]
  },
  {
   "cell_type": "code",
   "execution_count": 71,
   "id": "97a548e0",
   "metadata": {},
   "outputs": [],
   "source": [
    "# Process the output so it can be used as a password\n",
    "password_and_gate_output_decrypted_int_bytes = extend_byte_with_leading_zeros(\n",
    "    password_and_gate_output_decrypted, password_bit_length\n",
    ")\n",
    "\n",
    "# Lookup the row in the XOR garbled gate\n",
    "ciphertext_xor_gate = xor_garbled_gate[\n",
    "    hash_function(password_and_gate_output_decrypted_int_bytes, P_z)\n",
    "]\n",
    "\n",
    "# Combine the 2 passwords as the new password\n",
    "password_chosen_input = (\n",
    "    int.from_bytes(password_and_gate_output_decrypted, \"big\")\n",
    "    + int.from_bytes(P_z, \"big\")\n",
    ") % elgamal.p\n",
    "\n",
    "# Decrypt the output of the XOR garbled gate\n",
    "output_xor_gate_bytes = elgamal.decrypt(\n",
    "    ciphertext=ciphertext_xor_gate, private_key=password_chosen_input, output_bytes=True\n",
    ")"
   ]
  },
  {
   "cell_type": "markdown",
   "id": "69a12923",
   "metadata": {},
   "source": [
    "Check that the output is correct"
   ]
  },
  {
   "cell_type": "code",
   "execution_count": 72,
   "id": "116298f4",
   "metadata": {},
   "outputs": [
    {
     "name": "stdout",
     "output_type": "stream",
     "text": [
      "output_xor_gate_bytes in string: 0\n"
     ]
    }
   ],
   "source": [
    "print(f\"output_xor_gate_bytes in string: {output_xor_gate_bytes.decode('utf-8') }\")\n",
    "assert output_xor_gate_bytes.decode(\"utf-8\") == \"0\""
   ]
  },
  {
   "cell_type": "markdown",
   "id": "fe179307",
   "metadata": {},
   "source": [
    "### 2.2 Oblivious transfer"
   ]
  },
  {
   "cell_type": "markdown",
   "id": "b75d7605",
   "metadata": {},
   "source": [
    "#### 2.2.1 Commutative encryption"
   ]
  },
  {
   "cell_type": "markdown",
   "id": "c0de0f68",
   "metadata": {},
   "source": [
    "##### Step 1: Alice encrypts the messages and send it to Bob"
   ]
  },
  {
   "cell_type": "code",
   "execution_count": 73,
   "id": "06416e5e",
   "metadata": {},
   "outputs": [],
   "source": [
    "# Alice: prepare the messages to be encrypted and send to Bob\n",
    "alice_messages = [\"msg_1\", \"msg_2\", \"msg_3\"]\n",
    "alice_messages_encoded = [\n",
    "    int.from_bytes(msg.encode(\"utf8\"), \"big\") for msg in alice_messages\n",
    "]\n",
    "\n",
    "# Alice: create a secret key which is a random integer (make it larger to handle encoded messages)\n",
    "alice_secret_key = random.randint(0, 2**64)\n",
    "\n",
    "# Alice: encrypts each message with her secret key\n",
    "alice_messages_encrypted = [\n",
    "    alice_secret_key ^ message for message in alice_messages_encoded\n",
    "]\n",
    "\n",
    "# Alice: sends the encrypted messages to Bob\n",
    "bob_messages_encrypted = alice_messages_encrypted"
   ]
  },
  {
   "cell_type": "markdown",
   "id": "82bb67f1",
   "metadata": {},
   "source": [
    "##### Step 2: Bob encrypts the message with his secret key and sends it back to Alice"
   ]
  },
  {
   "cell_type": "code",
   "execution_count": 74,
   "id": "700140e2",
   "metadata": {},
   "outputs": [
    {
     "name": "stdout",
     "output_type": "stream",
     "text": [
      "bob_message_to_decrypt:  821608179842380527\n",
      "bob_secret_key:  632849963090291586\n"
     ]
    }
   ],
   "source": [
    "# Bob: wants to learn the 3rd message\n",
    "message_index = 2\n",
    "bob_message_to_decrypt = bob_messages_encrypted[message_index]\n",
    "print(\"bob_message_to_decrypt: \", bob_message_to_decrypt)\n",
    "\n",
    "# Bob: creates a secret key which is a random integer\n",
    "bob_secret_key = random.randint(0, 2**64)\n",
    "print(\"bob_secret_key: \", bob_secret_key)\n",
    "\n",
    "# Bob: encrypts the message with his secret key\n",
    "bob_message_to_decrypt_reencrypted = bob_message_to_decrypt ^ bob_secret_key\n",
    "\n",
    "# Bob: sends the encrypted message to Alice\n",
    "alice_message_to_decrypt = bob_message_to_decrypt_reencrypted"
   ]
  },
  {
   "cell_type": "markdown",
   "id": "5e435f81",
   "metadata": {},
   "source": [
    "##### Step 3: Alice decrypts the message from Bob and sends it back to Bob"
   ]
  },
  {
   "cell_type": "code",
   "execution_count": 75,
   "id": "b10bf0e4",
   "metadata": {},
   "outputs": [
    {
     "name": "stdout",
     "output_type": "stream",
     "text": [
      "alice_message_decrypted:  632850156621591729\n"
     ]
    }
   ],
   "source": [
    "# Alice: decrypts the message with her key\n",
    "alice_message_decrypted = alice_message_to_decrypt ^ alice_secret_key\n",
    "print(\"alice_message_decrypted: \", alice_message_decrypted)\n",
    "\n",
    "# Alice: send message back to Bob\n",
    "bob_message_to_decrypt = alice_message_decrypted"
   ]
  },
  {
   "cell_type": "markdown",
   "id": "455ec806",
   "metadata": {},
   "source": [
    "##### Step 4: Bob decrypts the message from Alice"
   ]
  },
  {
   "cell_type": "code",
   "execution_count": 76,
   "id": "fc151b3f",
   "metadata": {},
   "outputs": [],
   "source": [
    "# Bob: decrypts the message with his key\n",
    "bob_message_decrypted = bob_message_to_decrypt ^ bob_secret_key\n",
    "\n",
    "# Convert the message from integer back to a string\n",
    "bob_message_final = bob_message_decrypted.to_bytes(\n",
    "    (bob_message_decrypted.bit_length() + 7) // 8, \"big\"\n",
    ").decode(\"utf8\")"
   ]
  },
  {
   "cell_type": "markdown",
   "id": "1fa8f118",
   "metadata": {},
   "source": [
    "Check that the output is correct"
   ]
  },
  {
   "cell_type": "code",
   "execution_count": 77,
   "id": "f85dfbcc",
   "metadata": {},
   "outputs": [
    {
     "name": "stdout",
     "output_type": "stream",
     "text": [
      "bob_message_final:  msg_3\n",
      "alice_messages[message_index]:  msg_3\n"
     ]
    }
   ],
   "source": [
    "print(\"bob_message_final: \", bob_message_final)\n",
    "print(\"alice_messages[message_index]: \", alice_messages[message_index])\n",
    "assert bob_message_final == alice_messages[message_index]"
   ]
  },
  {
   "cell_type": "markdown",
   "id": "0527c24c",
   "metadata": {},
   "source": [
    "#### 2.2.3 OT in one step"
   ]
  },
  {
   "cell_type": "code",
   "execution_count": 3,
   "id": "8d27be8b-7a2a-40f7-822e-590603a8f423",
   "metadata": {},
   "outputs": [
    {
     "data": {
      "text/html": [
       "<video src=\"../assets/ObliviousTransferAnimation.mp4\" controls loop autoplay  width=\"800\" >\n",
       "      Your browser does not support the <code>video</code> element.\n",
       "    </video>"
      ],
      "text/plain": [
       "<IPython.core.display.Video object>"
      ]
     },
     "execution_count": 3,
     "metadata": {},
     "output_type": "execute_result"
    }
   ],
   "source": [
    "from IPython.display import Video\n",
    "\n",
    "Video(\"../assets/ObliviousTransferAnimation.mp4\", width=800, html_attributes=\"controls loop autoplay\")"
   ]
  },
  {
   "cell_type": "markdown",
   "id": "b681095d",
   "metadata": {},
   "source": [
    "Public `r` is a verifiably random number in integer.\n",
    "As example, we use `r = SHA(1)`."
   ]
  },
  {
   "cell_type": "code",
   "execution_count": 78,
   "id": "7c99f38f",
   "metadata": {},
   "outputs": [
    {
     "name": "stdout",
     "output_type": "stream",
     "text": [
      "r:  46901772769737426970554443792271567034745104883402063980102300907689055528146\n"
     ]
    }
   ],
   "source": [
    "r = int.from_bytes(sha3_256(b\"1\").digest(), \"big\")\n",
    "print(\"r: \", r)"
   ]
  },
  {
   "cell_type": "markdown",
   "id": "2b61bbd2",
   "metadata": {},
   "source": [
    "Assume Bob wants to learn the 2nd message"
   ]
  },
  {
   "cell_type": "code",
   "execution_count": 79,
   "id": "a02a939e",
   "metadata": {},
   "outputs": [],
   "source": [
    "message_index = 1 # message is 0-indexed"
   ]
  },
  {
   "cell_type": "markdown",
   "id": "282c37a3",
   "metadata": {},
   "source": [
    "Generate a set of ElGamal keys in arithmetic progression"
   ]
  },
  {
   "cell_type": "code",
   "execution_count": 80,
   "id": "7f107bb2",
   "metadata": {},
   "outputs": [],
   "source": [
    "def generate_ap_keys(\n",
    "    index_genuine_key: int,\n",
    "    number_of_keys: int,\n",
    "    progression_step: int,\n",
    "    elgamal: ElGamal = None,\n",
    ") -> Tuple[List[Tuple[int, int, int]], int]:\n",
    "    \"\"\"Generate ElGamal keys in arithmetic progression.\n",
    "\n",
    "    Args:\n",
    "        index_genuine_key: Index of the genuine key in the sequence.\n",
    "        number_of_keys: Total number of keys to generate.\n",
    "        progression_step: Step size between consecutive keys.\n",
    "        elgamal: ElGamal object.\n",
    "\n",
    "    Returns:\n",
    "        Tuple containing (public_keys, private_key).\n",
    "    \"\"\"\n",
    "\n",
    "    # Generate the first key\n",
    "    if elgamal is None:\n",
    "        elgamal = ElGamal()\n",
    "    (public_key, private_key) = elgamal.generate_keys()\n",
    "\n",
    "    # Generate the keys in arithmetic progression\n",
    "    public_keys_y = [\n",
    "        public_key[2] + (j - index_genuine_key) * progression_step\n",
    "        for j in range(number_of_keys)\n",
    "    ]\n",
    "\n",
    "    public_keys = [\n",
    "        (elgamal.p, elgamal.g, public_keys_y[j]) for j in range(number_of_keys)\n",
    "    ]\n",
    "\n",
    "    return (public_keys, private_key)"
   ]
  },
  {
   "cell_type": "markdown",
   "id": "ee8e654e",
   "metadata": {},
   "source": [
    "Bob: create a set of keys based on `r` to which Alice can verify they all have a \n",
    "difference of `r`, thus proving that Bob only knows the secret key to one of the \n",
    "public keys"
   ]
  },
  {
   "cell_type": "code",
   "execution_count": 81,
   "id": "39ba691d",
   "metadata": {},
   "outputs": [],
   "source": [
    "bob_public_key_set, bob_private_key = generate_ap_keys(\n",
    "    index_genuine_key=message_index,\n",
    "    number_of_keys=len(alice_messages),\n",
    "    progression_step=r,\n",
    "    elgamal=elgamal,\n",
    ")"
   ]
  },
  {
   "cell_type": "markdown",
   "id": "4c211807",
   "metadata": {},
   "source": [
    "Alice: check Bob's public keys are in arithmetic progression"
   ]
  },
  {
   "cell_type": "code",
   "execution_count": 82,
   "id": "44cebaa9",
   "metadata": {},
   "outputs": [],
   "source": [
    "for j in range(len(bob_public_key_set)):\n",
    "    assert bob_public_key_set[j][2] == bob_public_key_set[0][2] + j * r"
   ]
  },
  {
   "cell_type": "markdown",
   "id": "30d01664",
   "metadata": {},
   "source": [
    "Alice: use the public keys from Bob to encrypt her messages"
   ]
  },
  {
   "cell_type": "code",
   "execution_count": 83,
   "id": "8d711de2",
   "metadata": {},
   "outputs": [],
   "source": [
    "def ot_encrypt_messages(\n",
    "    messages: List[Union[str, bytes]],\n",
    "    public_key_set: List[Tuple[int, int, int]],\n",
    "    elgamal: ElGamal,\n",
    ") -> List[Tuple[int, int]]:\n",
    "    encrypted_messages = []\n",
    "    for j in range(len(messages)):\n",
    "        encrypted_messages.append(elgamal.encrypt(messages[j], public_key_set[j]))\n",
    "    return encrypted_messages\n",
    "\n",
    "alice_messages_encrypted = ot_encrypt_messages(\n",
    "    alice_messages, bob_public_key_set, elgamal\n",
    ")"
   ]
  },
  {
   "cell_type": "markdown",
   "id": "9f7a6a2b",
   "metadata": {},
   "source": [
    "Alice: send the encrypted messages to Bob"
   ]
  },
  {
   "cell_type": "code",
   "execution_count": 84,
   "id": "02824e20",
   "metadata": {},
   "outputs": [],
   "source": [
    "bob_messages_encrypted = alice_messages_encrypted"
   ]
  },
  {
   "cell_type": "markdown",
   "id": "d1c34445",
   "metadata": {},
   "source": [
    "Bob: decrypt the messages that Alice sent"
   ]
  },
  {
   "cell_type": "code",
   "execution_count": 85,
   "id": "00795881",
   "metadata": {},
   "outputs": [],
   "source": [
    "bob_messages_decrypted = elgamal.decrypt(\n",
    "    ciphertext=bob_messages_encrypted[message_index],\n",
    "    private_key=bob_private_key,\n",
    "    output_bytes=False,\n",
    ")"
   ]
  },
  {
   "cell_type": "markdown",
   "id": "db5f56ac",
   "metadata": {},
   "source": [
    "Check that the output is correct"
   ]
  },
  {
   "cell_type": "code",
   "execution_count": 86,
   "id": "b8b0a897",
   "metadata": {},
   "outputs": [
    {
     "name": "stdout",
     "output_type": "stream",
     "text": [
      "bob_messages_decrypted: msg_2\n",
      "alice_messages[message_index]: msg_2\n"
     ]
    }
   ],
   "source": [
    "print(f\"bob_messages_decrypted: {bob_messages_decrypted}\")\n",
    "print(f\"alice_messages[message_index]: {alice_messages[message_index]}\")\n",
    "assert bob_messages_decrypted == alice_messages[message_index]"
   ]
  },
  {
   "cell_type": "markdown",
   "id": "d0ac9fc9",
   "metadata": {},
   "source": [
    "#### Example: How To Combine Garbled Circuits and OT"
   ]
  },
  {
   "cell_type": "markdown",
   "id": "15febbca",
   "metadata": {},
   "source": [
    "Convert `bit_passwords` to a list for ease of processing later"
   ]
  },
  {
   "cell_type": "code",
   "execution_count": 87,
   "id": "ceff1049",
   "metadata": {},
   "outputs": [
    {
     "data": {
      "text/plain": [
       "['x_0', 'x_1', 'y_0', 'y_1', 'z_0', 'z_1', 'out_0', 'out_1']"
      ]
     },
     "execution_count": 87,
     "metadata": {},
     "output_type": "execute_result"
    }
   ],
   "source": [
    "bit_passwords_key_list = list(bit_passwords.keys())\n",
    "bit_password_value_list = list(bit_passwords.values())\n",
    "bit_passwords_key_list"
   ]
  },
  {
   "cell_type": "markdown",
   "id": "c9beffc1",
   "metadata": {},
   "source": [
    "Bob: Define the password that he wants to learn"
   ]
  },
  {
   "cell_type": "code",
   "execution_count": 88,
   "id": "3efe2888",
   "metadata": {},
   "outputs": [],
   "source": [
    "bob_password_to_learn = \"x_1\""
   ]
  },
  {
   "cell_type": "markdown",
   "id": "73900914",
   "metadata": {},
   "source": [
    "Bob: Find the index of the password in question on the list"
   ]
  },
  {
   "cell_type": "code",
   "execution_count": 89,
   "id": "4fb434c2",
   "metadata": {},
   "outputs": [
    {
     "name": "stdout",
     "output_type": "stream",
     "text": [
      "bob_password_index:  1\n"
     ]
    }
   ],
   "source": [
    "bob_password_index = bit_passwords_key_list.index(bob_password_to_learn)\n",
    "print(\"bob_password_index: \", bob_password_index)"
   ]
  },
  {
   "cell_type": "markdown",
   "id": "2f918dd7",
   "metadata": {},
   "source": [
    "Bob: generate the keys for the OT"
   ]
  },
  {
   "cell_type": "code",
   "execution_count": 90,
   "id": "5f149d95",
   "metadata": {},
   "outputs": [],
   "source": [
    "bob_public_key_set, bob_private_key = generate_ap_keys(\n",
    "    bob_password_index,\n",
    "    len(bit_password_value_list),\n",
    "    r,\n",
    "    elgamal,\n",
    ")"
   ]
  },
  {
   "cell_type": "markdown",
   "id": "fbcc620d",
   "metadata": {},
   "source": [
    "Alice: use Bob's public keys to encrypt all the `bit_passwords`"
   ]
  },
  {
   "cell_type": "code",
   "execution_count": 91,
   "id": "d34a3fc6",
   "metadata": {},
   "outputs": [],
   "source": [
    "alice_bit_passwords_encrypted = ot_encrypt_messages(\n",
    "    bit_password_value_list, bob_public_key_set, elgamal\n",
    ")"
   ]
  },
  {
   "cell_type": "markdown",
   "id": "fa78b78e",
   "metadata": {},
   "source": [
    "Alice: send the encrypted `bit_passwords` to Bob"
   ]
  },
  {
   "cell_type": "code",
   "execution_count": 92,
   "id": "08368471",
   "metadata": {},
   "outputs": [],
   "source": [
    "bob_bit_passwords_encrypted = alice_bit_passwords_encrypted"
   ]
  },
  {
   "cell_type": "markdown",
   "id": "2dc9a747",
   "metadata": {},
   "source": [
    "Bob: decrypt the encrypted `bit_passwords`"
   ]
  },
  {
   "cell_type": "code",
   "execution_count": 93,
   "id": "f0d63eea",
   "metadata": {},
   "outputs": [],
   "source": [
    "bob_bit_passwords_decrypted = elgamal.decrypt(\n",
    "    ciphertext=bob_bit_passwords_encrypted[bob_password_index],\n",
    "    private_key=bob_private_key,\n",
    "    output_bytes=True,\n",
    ")"
   ]
  },
  {
   "cell_type": "markdown",
   "id": "9d455eaf",
   "metadata": {},
   "source": [
    "Check that the output is correct"
   ]
  },
  {
   "cell_type": "code",
   "execution_count": 94,
   "id": "d60b29ec",
   "metadata": {},
   "outputs": [
    {
     "name": "stdout",
     "output_type": "stream",
     "text": [
      "bob_bit_passwords_decrypted in int: 25761972524815267648851251411372317196\n",
      "bit_passwords['x_1'] in int: 25761972524815267648851251411372317196\n"
     ]
    }
   ],
   "source": [
    "print(\n",
    "    f\"bob_bit_passwords_decrypted in int: {int.from_bytes(bob_bit_passwords_decrypted, 'big')}\"\n",
    ")\n",
    "print(f\"bit_passwords['x_1'] in int: {int.from_bytes(bit_passwords['x_1'], 'big')}\")\n",
    "assert int.from_bytes(bob_bit_passwords_decrypted, \"big\") == int.from_bytes(\n",
    "    bit_passwords[\"x_1\"], \"big\"\n",
    ")"
   ]
  },
  {
   "cell_type": "markdown",
   "id": "8bbc1b8a",
   "metadata": {},
   "source": [
    "Bob can now use `bob_bit_passwords_decrypted` for `P_left` in the garbled circuit"
   ]
  }
 ],
 "metadata": {
  "kernelspec": {
   "display_name": "Python 3 (ipykernel)",
   "language": "python",
   "name": "python3"
  },
  "language_info": {
   "codemirror_mode": {
    "name": "ipython",
    "version": 3
   },
   "file_extension": ".py",
   "mimetype": "text/x-python",
   "name": "python",
   "nbconvert_exporter": "python",
   "pygments_lexer": "ipython3",
   "version": "3.12.7"
  }
 },
 "nbformat": 4,
 "nbformat_minor": 5
}
