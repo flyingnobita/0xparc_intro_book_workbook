{
 "cells": [
  {
   "cell_type": "markdown",
   "id": "831a056b",
   "metadata": {},
   "source": [
    "# 2 Two-party Computation"
   ]
  },
  {
   "cell_type": "markdown",
   "id": "ee7e7ca5",
   "metadata": {},
   "source": [
    "### 2.1.3 Garbled gates"
   ]
  },
  {
   "cell_type": "code",
   "execution_count": 1,
   "id": "c0e06e8b-0ed3-4b99-9977-bdcdfcf26c03",
   "metadata": {},
   "outputs": [],
   "source": [
    "import json\n",
    "import random\n",
    "from base64 import b64encode, b64decode\n",
    "from Crypto.Cipher import AES\n",
    "from Crypto.Util.Padding import pad, unpad\n",
    "from Crypto.Random import get_random_bytes\n",
    "from Crypto.Hash import SHA3_256\n",
    "from Crypto.PublicKey import RSA\n",
    "from Crypto.Cipher import PKCS1_OAEP\n",
    "from typing import Tuple, List, Dict, Any, Union\n",
    "from Crypto.PublicKey.RSA import RsaKey"
   ]
  },
  {
   "cell_type": "markdown",
   "id": "27563532",
   "metadata": {},
   "source": [
    "Create an input array of 2-bits: (x, y)"
   ]
  },
  {
   "cell_type": "code",
   "execution_count": 2,
   "id": "880a792c-03e0-417d-be66-72db0b1321a9",
   "metadata": {},
   "outputs": [
    {
     "data": {
      "text/plain": [
       "['00', '01', '10', '11']"
      ]
     },
     "execution_count": 2,
     "metadata": {},
     "output_type": "execute_result"
    }
   ],
   "source": [
    "input_x_array = [0, 1]\n",
    "input_y_array = [0, 1]\n",
    "input_array = [f\"{x}{y}\" for x in input_x_array for y in input_y_array]\n",
    "input_array"
   ]
  },
  {
   "cell_type": "markdown",
   "id": "c12a24a8",
   "metadata": {},
   "source": [
    "Given a plaintext and a password, encrypt it and return the initialization \n",
    "vector and ciphertext in bytes"
   ]
  },
  {
   "cell_type": "code",
   "execution_count": 3,
   "id": "ce315cc7",
   "metadata": {},
   "outputs": [],
   "source": [
    "def encrypt_data(\n",
    "    password: bytes, plaintext: Union[str, bytes], input_as_bytes: bool = False\n",
    ") -> Tuple[bytes, bytes]:\n",
    "    \"\"\"Encrypt data using AES in CBC mode.\n",
    "\n",
    "    Args:\n",
    "        password: The encryption key.\n",
    "        plaintext: The data to encrypt, either as string or bytes.\n",
    "        input_as_bytes: If True, treats plaintext as bytes, otherwise as string.\n",
    "\n",
    "    Returns:\n",
    "        Tuple containing (initialization_vector, ciphertext_bytes).\n",
    "    \"\"\"\n",
    "    cipher = AES.new(password, AES.MODE_CBC)\n",
    "    initialization_vector = cipher.iv\n",
    "    if input_as_bytes:\n",
    "        ciphertext_bytes = cipher.encrypt(pad(plaintext, AES.block_size))\n",
    "    else:\n",
    "        ciphertext_bytes = cipher.encrypt(\n",
    "            pad(plaintext.encode(\"utf-8\"), AES.block_size)\n",
    "        )\n",
    "    return initialization_vector, ciphertext_bytes"
   ]
  },
  {
   "cell_type": "markdown",
   "id": "c647a480",
   "metadata": {},
   "source": [
    "Given a password, ciphertext, and initialization vector, decrypt the ciphertext"
   ]
  },
  {
   "cell_type": "code",
   "execution_count": 4,
   "id": "1605d625",
   "metadata": {},
   "outputs": [],
   "source": [
    "def decrypt_data(\n",
    "    password: bytes,\n",
    "    ciphertext_bytes: bytes,\n",
    "    initialization_vector: bytes,\n",
    "    input_as_bytes: bool = False,\n",
    ") -> Union[str, bytes]:\n",
    "    \"\"\"Decrypt data using AES in CBC mode.\n",
    "\n",
    "    Args:\n",
    "        password: The decryption key.\n",
    "        ciphertext_bytes: The encrypted data.\n",
    "        initialization_vector: The IV used during encryption.\n",
    "        input_as_bytes: If True, returns bytes, otherwise decodes to string.\n",
    "\n",
    "    Returns:\n",
    "        Decrypted data as either string or bytes.\n",
    "    \"\"\"\n",
    "    cipher = AES.new(password, AES.MODE_CBC, initialization_vector)\n",
    "    if input_as_bytes:\n",
    "        plaintext = unpad(cipher.decrypt(ciphertext_bytes), AES.block_size)\n",
    "    else:\n",
    "        plaintext = unpad(cipher.decrypt(ciphertext_bytes), AES.block_size).decode(\n",
    "            \"utf-8\"\n",
    "        )\n",
    "    return plaintext"
   ]
  },
  {
   "cell_type": "markdown",
   "id": "971b9585",
   "metadata": {},
   "source": [
    "#### Example: Compute the output of the XOR gate"
   ]
  },
  {
   "cell_type": "code",
   "execution_count": 5,
   "id": "c13706dc",
   "metadata": {},
   "outputs": [
    {
     "data": {
      "text/plain": [
       "['0', '1', '1', '0']"
      ]
     },
     "execution_count": 5,
     "metadata": {},
     "output_type": "execute_result"
    }
   ],
   "source": [
    "def xor_gate(x: str, y: str) -> str:\n",
    "    \"\"\"Compute XOR of two binary inputs.\n",
    "\n",
    "    Args:\n",
    "        x: First binary input ('0' or '1').\n",
    "        y: Second binary input ('0' or '1').\n",
    "\n",
    "    Returns:\n",
    "        XOR result as '0' or '1'.\n",
    "    \"\"\"\n",
    "    return \"0\" if x == y else \"1\"\n",
    "\n",
    "# Store the output of the XOR gate for each input\n",
    "plain_xor_gate_outputs = [xor_gate(x, y) for x in input_x_array for y in input_y_array]\n",
    "plain_xor_gate_outputs"
   ]
  },
  {
   "cell_type": "markdown",
   "id": "8afd943c",
   "metadata": {},
   "source": [
    "Generate a basic garbled gate based on a plain gate output"
   ]
  },
  {
   "cell_type": "code",
   "execution_count": 6,
   "id": "07b99595",
   "metadata": {},
   "outputs": [],
   "source": [
    "def generate_garble_gate(\n",
    "    plain_gate_outputs: List[str],\n",
    ") -> Tuple[List[bytes], List[bytes], List[bytes]]:\n",
    "    \"\"\"Generate a garbled gate from plain gate outputs.\n",
    "\n",
    "    Args:\n",
    "        plain_gate_outputs: List of plain gate outputs ('0' or '1').\n",
    "\n",
    "    Returns:\n",
    "        Tuple containing (passwords, initialization_vectors, garbled_gate_outputs).\n",
    "    \"\"\"\n",
    "\n",
    "    passwords = []\n",
    "    initialization_vectors = []\n",
    "    garbled_gate_outputs = []\n",
    "\n",
    "    # Generate ciphertext for each gate output\n",
    "    for message_index in range(len(plain_gate_outputs)):\n",
    "        # Convert the input to bytes\n",
    "        data = plain_gate_outputs[message_index]\n",
    "\n",
    "        # Generate a random key for each input and save it to the password array\n",
    "        passwords.append(get_random_bytes(16))\n",
    "\n",
    "        # Encrypt the data using the password\n",
    "        initialization_vector, ciphertext_bytes = encrypt_data(\n",
    "            passwords[message_index], data\n",
    "        )\n",
    "\n",
    "        # Save the initialization vector and ciphertext to the arrays\n",
    "        initialization_vectors.append(initialization_vector)\n",
    "        garbled_gate_outputs.append(ciphertext_bytes)\n",
    "\n",
    "    return passwords, initialization_vectors, garbled_gate_outputs\n",
    "\n",
    "passwords_garbled_gate, initialization_vectors_garbled_gate, outputs_garbled_gate = (\n",
    "    generate_garble_gate(plain_xor_gate_outputs)\n",
    ")"
   ]
  },
  {
   "cell_type": "markdown",
   "id": "02fe2b89",
   "metadata": {},
   "source": [
    "#### Find the output of the garbled gate from a chosen input"
   ]
  },
  {
   "cell_type": "code",
   "execution_count": 7,
   "id": "bea7c002",
   "metadata": {},
   "outputs": [],
   "source": [
    "chosen_input = \"11\""
   ]
  },
  {
   "cell_type": "markdown",
   "id": "0209cd0a",
   "metadata": {},
   "source": [
    "Lookup the index for the chosen input"
   ]
  },
  {
   "cell_type": "code",
   "execution_count": 8,
   "id": "c1399c38",
   "metadata": {},
   "outputs": [],
   "source": [
    "index_chosen_input = input_array.index(chosen_input)"
   ]
  },
  {
   "cell_type": "markdown",
   "id": "c0ef89b9",
   "metadata": {},
   "source": [
    "Get the password, initialization vector, and ciphertext for the chosen input"
   ]
  },
  {
   "cell_type": "code",
   "execution_count": 9,
   "id": "ebecf392",
   "metadata": {},
   "outputs": [],
   "source": [
    "password_chosen_input = passwords_garbled_gate[index_chosen_input]\n",
    "initialization_vector_chosen_input = initialization_vectors_garbled_gate[\n",
    "    index_chosen_input\n",
    "]\n",
    "ciphertext_chosen_input = outputs_garbled_gate[index_chosen_input]"
   ]
  },
  {
   "cell_type": "markdown",
   "id": "0fe5ec1a",
   "metadata": {},
   "source": [
    "Decrypt the ciphertext to get our gate output"
   ]
  },
  {
   "cell_type": "code",
   "execution_count": 10,
   "id": "4c5da42f",
   "metadata": {},
   "outputs": [
    {
     "data": {
      "text/plain": [
       "'0'"
      ]
     },
     "execution_count": 10,
     "metadata": {},
     "output_type": "execute_result"
    }
   ],
   "source": [
    "gate_output = decrypt_data(\n",
    "    password_chosen_input, ciphertext_chosen_input, initialization_vector_chosen_input\n",
    ")\n",
    "\n",
    "# Check that the output is correct\n",
    "assert gate_output == plain_xor_gate_outputs[index_chosen_input]\n",
    "\n",
    "gate_output"
   ]
  },
  {
   "cell_type": "markdown",
   "id": "c7330f37",
   "metadata": {},
   "source": [
    "### 2.1.4 Chaining garbled gates"
   ]
  },
  {
   "cell_type": "markdown",
   "id": "53a73659",
   "metadata": {},
   "source": [
    "Hash function to combine the two inputs"
   ]
  },
  {
   "cell_type": "code",
   "execution_count": 11,
   "id": "cf464f6f",
   "metadata": {},
   "outputs": [],
   "source": [
    "def hash_function(x: bytes, y: bytes) -> bytes:\n",
    "    \"\"\"Combine two inputs using SHA3-256 hash.\n",
    "\n",
    "    Args:\n",
    "        x: First input bytes.\n",
    "        y: Second input bytes.\n",
    "\n",
    "    Returns:\n",
    "        Combined hash digest.\n",
    "    \"\"\"\n",
    "    hash_object = SHA3_256.new()\n",
    "    # Update the hash object with the bytes of the input\n",
    "    hash_object.update(x)\n",
    "    hash_object.update(y)\n",
    "    return hash_object.digest()"
   ]
  },
  {
   "cell_type": "markdown",
   "id": "aa09b606",
   "metadata": {},
   "source": [
    "Generate passwords for all inputs and bits combination"
   ]
  },
  {
   "cell_type": "code",
   "execution_count": 12,
   "id": "d620c94f",
   "metadata": {},
   "outputs": [
    {
     "data": {
      "text/plain": [
       "dict_keys(['x_0', 'x_1', 'y_0', 'y_1', 'z_0', 'z_1', 'out_0', 'out_1'])"
      ]
     },
     "execution_count": 12,
     "metadata": {},
     "output_type": "execute_result"
    }
   ],
   "source": [
    "bit_passwords = {\n",
    "    f\"{var}_{bit}\": get_random_bytes(16)\n",
    "    for var in [\"x\", \"y\", \"z\", \"out\"]\n",
    "    for bit in [\"0\", \"1\"]\n",
    "}\n",
    "bit_passwords.keys()"
   ]
  },
  {
   "cell_type": "markdown",
   "id": "ae0666e4",
   "metadata": {},
   "source": [
    "Construct Garbled gate: AND(x, y)"
   ]
  },
  {
   "cell_type": "code",
   "execution_count": 13,
   "id": "8bf90cdd",
   "metadata": {},
   "outputs": [],
   "source": [
    "def construct_intermediate_garbled_and_gate(bit_passwords: Dict[str, bytes]):\n",
    "    intermediate_garbled_gate = {}\n",
    "    for x_bit in [0, 1]:\n",
    "        for y_bit in [0, 1]:\n",
    "\n",
    "            # Compute hash of input passwords\n",
    "            hash_key = hash_function(\n",
    "                bit_passwords[f\"x_{x_bit}\"], bit_passwords[f\"y_{y_bit}\"]\n",
    "            )\n",
    "\n",
    "            # Compute AND gate output as bytes\n",
    "            output_bit_password = bit_passwords[f\"out_{x_bit & y_bit}\"]\n",
    "\n",
    "            # Encrypt the output with the hash key\n",
    "            iv, ciphertext = encrypt_data(\n",
    "                hash_key, output_bit_password, input_as_bytes=True\n",
    "            )\n",
    "\n",
    "            intermediate_garbled_gate[hash_key] = (iv, ciphertext)\n",
    "\n",
    "    return intermediate_garbled_gate\n",
    "\n",
    "\n",
    "and_garbled_gate = construct_intermediate_garbled_and_gate(bit_passwords)"
   ]
  },
  {
   "cell_type": "markdown",
   "id": "160cdf92",
   "metadata": {},
   "source": [
    "### 2.1.5 How Bob uses one gate"
   ]
  },
  {
   "cell_type": "code",
   "execution_count": 14,
   "id": "00ff53b7",
   "metadata": {},
   "outputs": [],
   "source": [
    "# Using the AND gate as an example\n",
    "# \n",
    "#                AND\n",
    "#   P_left  x ---.\n",
    "#                 )--- P_output_1\n",
    "#   P_right y ---'"
   ]
  },
  {
   "cell_type": "markdown",
   "id": "e6af716c",
   "metadata": {},
   "source": [
    "Lookup the garbled gate for input P_left, P_right"
   ]
  },
  {
   "cell_type": "code",
   "execution_count": 15,
   "id": "2d6bed86",
   "metadata": {},
   "outputs": [],
   "source": [
    "P_left = bit_passwords[\"x_0\"]\n",
    "P_right = bit_passwords[\"y_1\"]"
   ]
  },
  {
   "cell_type": "markdown",
   "id": "0bf146f7",
   "metadata": {},
   "source": [
    "Compute the hash of the input passwords"
   ]
  },
  {
   "cell_type": "code",
   "execution_count": 16,
   "id": "3c0f904f",
   "metadata": {},
   "outputs": [],
   "source": [
    "password_hashed_and_gate = hash_function(P_left, P_right)"
   ]
  },
  {
   "cell_type": "markdown",
   "id": "a1e79d97",
   "metadata": {},
   "source": [
    "Lookup the row in the garbled gate"
   ]
  },
  {
   "cell_type": "code",
   "execution_count": 17,
   "id": "0bf67fcf",
   "metadata": {},
   "outputs": [],
   "source": [
    "iv_and_gate, ciphertext_and_gate = and_garbled_gate[password_hashed_and_gate]"
   ]
  },
  {
   "cell_type": "markdown",
   "id": "c437f50f",
   "metadata": {},
   "source": [
    "Decrypt the row"
   ]
  },
  {
   "cell_type": "code",
   "execution_count": 18,
   "id": "91fa15f0",
   "metadata": {},
   "outputs": [],
   "source": [
    "P_output_1 = decrypt_data(\n",
    "    password_hashed_and_gate, ciphertext_and_gate, iv_and_gate, input_as_bytes=True\n",
    ")\n",
    "\n",
    "assert P_output_1 == bit_passwords[\"out_0\"]"
   ]
  },
  {
   "cell_type": "markdown",
   "id": "8de52adb",
   "metadata": {},
   "source": [
    "#### Example: How to chain two garbled gates"
   ]
  },
  {
   "cell_type": "code",
   "execution_count": 19,
   "id": "efa14a03",
   "metadata": {},
   "outputs": [],
   "source": [
    "#                 AND\n",
    "#    P_left  x ---.           XOR\n",
    "#                  )--- P_output_1 ---.\n",
    "#    P_right y ---'                    }=--- Output_plaintext\n",
    "#                                     '\n",
    "#    P_z -----------------------------'\n",
    "\n",
    "# -------------------------------  XOR Gate Table -------------------------------\n",
    "# hash(P_0^P_output_1, P_0^z)   | Enc_{P_0^P_output_1, P_0^z}(Output_Plaintext_0)\n",
    "# hash(P_0^P_output_1, P_1^z)   | Enc_{P_0^P_output_1, P_1^z}(Output_Plaintext_1)\n",
    "# hash(P_1^P_output_1, P_1^z)   | Enc_{P_1^P_output_1, P_1^z}(Output_Plaintext_1)\n",
    "# hash(P_1^P_output_1, P_1^z)   | Enc_{P_1^P_output_1, P_1^z}(Output_Plaintext_0)"
   ]
  },
  {
   "cell_type": "markdown",
   "id": "32afa5f1",
   "metadata": {},
   "source": [
    "Construct Final Garbled gate: XOR(x, y)"
   ]
  },
  {
   "cell_type": "code",
   "execution_count": 20,
   "id": "28be7c6d",
   "metadata": {},
   "outputs": [],
   "source": [
    "def construct_final_garbled_gate(bit_passwords: Dict[str, bytes]):\n",
    "    final_garbled_gate = {}\n",
    "    for out_bit in [0, 1]:\n",
    "        for z_bit in [0, 1]:\n",
    "\n",
    "            # Compute hash of input passwords\n",
    "            hash_key = hash_function(\n",
    "                bit_passwords[f\"out_{out_bit}\"], bit_passwords[f\"z_{z_bit}\"]\n",
    "            )\n",
    "\n",
    "            # Compute XOR gate output as bytes\n",
    "            output_xor_gate_bytes = (\n",
    "                \"0\".encode(\"utf-8\") if out_bit == z_bit else \"1\".encode(\"utf-8\")\n",
    "            )\n",
    "\n",
    "            # Encrypt the output with the hash key\n",
    "            iv, ciphertext = encrypt_data(\n",
    "                hash_key, output_xor_gate_bytes, input_as_bytes=True\n",
    "            )\n",
    "\n",
    "            final_garbled_gate[hash_key] = (iv, ciphertext)\n",
    "\n",
    "    return final_garbled_gate\n",
    "\n",
    "xor_garbled_gate = construct_final_garbled_gate(bit_passwords)"
   ]
  },
  {
   "cell_type": "markdown",
   "id": "7ddc2b39",
   "metadata": {},
   "source": [
    "Lookup the AND garbled gate for input P_0_left, P_1_right"
   ]
  },
  {
   "cell_type": "code",
   "execution_count": 21,
   "id": "0237f8e3",
   "metadata": {},
   "outputs": [],
   "source": [
    "P_left = bit_passwords[\"x_1\"]\n",
    "P_right = bit_passwords[\"y_1\"]\n",
    "P_z = bit_passwords[\"z_1\"]"
   ]
  },
  {
   "cell_type": "markdown",
   "id": "de8e9940",
   "metadata": {},
   "source": [
    "Retrieve the password from the AND garbled gate"
   ]
  },
  {
   "cell_type": "code",
   "execution_count": 22,
   "id": "04e1dcbc",
   "metadata": {},
   "outputs": [],
   "source": [
    "hash_password_and_gate = hash_function(P_left, P_right)\n",
    "iv_and_gate, ciphertext_and_gate = and_garbled_gate[hash_password_and_gate]\n",
    "password_and_gate_output_decrypted = decrypt_data(\n",
    "    hash_password_and_gate, ciphertext_and_gate, iv_and_gate, input_as_bytes=True\n",
    ")"
   ]
  },
  {
   "cell_type": "markdown",
   "id": "e15862d5",
   "metadata": {},
   "source": [
    "Retrieve the output of the XOR garbled gate"
   ]
  },
  {
   "cell_type": "code",
   "execution_count": 23,
   "id": "97a548e0",
   "metadata": {},
   "outputs": [],
   "source": [
    "iv_xor_gate, ciphertext_xor_gate = xor_garbled_gate[\n",
    "    hash_function(password_and_gate_output_decrypted, P_z)\n",
    "]\n",
    "password_chosen_input = hash_function(password_and_gate_output_decrypted, P_z)\n",
    "output_xor_gate_bytes = decrypt_data(\n",
    "    password_chosen_input, ciphertext_xor_gate, iv_xor_gate, input_as_bytes=True\n",
    ")\n",
    "\n",
    "assert output_xor_gate_bytes.decode(\"utf-8\") == \"0\""
   ]
  },
  {
   "cell_type": "markdown",
   "id": "fe179307",
   "metadata": {},
   "source": [
    "### 2.2 Oblivious transfer"
   ]
  },
  {
   "cell_type": "markdown",
   "id": "b75d7605",
   "metadata": {},
   "source": [
    "#### 2.2.1 Commutative encryption"
   ]
  },
  {
   "cell_type": "markdown",
   "id": "c0de0f68",
   "metadata": {},
   "source": [
    "##### Step 1: Alice encrypts the messages and send it to Bob"
   ]
  },
  {
   "cell_type": "code",
   "execution_count": 24,
   "id": "06416e5e",
   "metadata": {},
   "outputs": [],
   "source": [
    "# Alice: prepare the messages to be encrypted and send to Bob\n",
    "alice_messages = [\"msg_1\", \"msg_2\", \"msg_3\"]\n",
    "alice_messages_encoded = [\n",
    "    int.from_bytes(msg.encode(\"utf8\"), \"big\") for msg in alice_messages\n",
    "]\n",
    "\n",
    "# Alice: create a secret key which is a random integer (make it larger to handle encoded messages)\n",
    "alice_secret_key = random.randint(0, 2**64)\n",
    "\n",
    "# Alice: encrypts each message with her secret key\n",
    "alice_messages_encrypted = [\n",
    "    alice_secret_key ^ message for message in alice_messages_encoded\n",
    "]\n",
    "\n",
    "# Alice: sends the encrypted messages to Bob\n",
    "bob_messages_encrypted = alice_messages_encrypted"
   ]
  },
  {
   "cell_type": "markdown",
   "id": "82bb67f1",
   "metadata": {},
   "source": [
    "##### Step 2: Bob encrypts the message with his secret key and sends it back to Alice"
   ]
  },
  {
   "cell_type": "code",
   "execution_count": 25,
   "id": "700140e2",
   "metadata": {},
   "outputs": [],
   "source": [
    "# Bob: wants to learn the 3rd message\n",
    "bob_message_to_decrypt = bob_messages_encrypted[2]\n",
    "\n",
    "# Bob: creates a secret key which is a random integer\n",
    "bob_secret_key = random.randint(0, 2**64)\n",
    "\n",
    "# Bob: encrypts the message with his secret key\n",
    "bob_message_to_decrypt_reencrypted = bob_message_to_decrypt ^ bob_secret_key\n",
    "\n",
    "# Bob: sends the encrypted message to Alice\n",
    "alice_message_to_decrypt = bob_message_to_decrypt_reencrypted"
   ]
  },
  {
   "cell_type": "markdown",
   "id": "5e435f81",
   "metadata": {},
   "source": [
    "##### Step 3: Alice decrypts the message from Bob and sends it back to Bob"
   ]
  },
  {
   "cell_type": "code",
   "execution_count": 26,
   "id": "b10bf0e4",
   "metadata": {},
   "outputs": [],
   "source": [
    "# Alice: decrypts the message with her key\n",
    "alice_message_decrypted = alice_message_to_decrypt ^ alice_secret_key\n",
    "\n",
    "# Alice: send message back to Bob\n",
    "bob_message_to_decrypt = alice_message_decrypted"
   ]
  },
  {
   "cell_type": "markdown",
   "id": "455ec806",
   "metadata": {},
   "source": [
    "##### Step 4: Bob decrypts the message from Alice"
   ]
  },
  {
   "cell_type": "code",
   "execution_count": 27,
   "id": "fc151b3f",
   "metadata": {},
   "outputs": [],
   "source": [
    "# Bob: decrypts the message with his key\n",
    "bob_message_decrypted = bob_message_to_decrypt ^ bob_secret_key\n",
    "\n",
    "# Convert the message from integer back to a string\n",
    "bob_message_final = bob_message_decrypted.to_bytes(\n",
    "    (bob_message_decrypted.bit_length() + 7) // 8, \"big\"\n",
    ").decode(\"utf8\")\n",
    "\n",
    "# Assert that the message is correct\n",
    "assert bob_message_final == alice_messages[2]"
   ]
  },
  {
   "cell_type": "markdown",
   "id": "0527c24c",
   "metadata": {},
   "source": [
    "#### 2.2.3 OT in one step"
   ]
  },
  {
   "cell_type": "markdown",
   "id": "b681095d",
   "metadata": {},
   "source": [
    "Public: `r` is a verifiably random number in integer"
   ]
  },
  {
   "cell_type": "code",
   "execution_count": 28,
   "id": "7c99f38f",
   "metadata": {},
   "outputs": [],
   "source": [
    "r = int.from_bytes(SHA3_256.new(b\"1\").digest(), \"big\")"
   ]
  },
  {
   "cell_type": "markdown",
   "id": "2b61bbd2",
   "metadata": {},
   "source": [
    "Assume Bob wants to learn the 2nd message"
   ]
  },
  {
   "cell_type": "code",
   "execution_count": 29,
   "id": "a02a939e",
   "metadata": {},
   "outputs": [],
   "source": [
    "message_index = 1"
   ]
  },
  {
   "cell_type": "markdown",
   "id": "282c37a3",
   "metadata": {},
   "source": [
    "Generate a set of RSA keys in arithmetic progression"
   ]
  },
  {
   "cell_type": "code",
   "execution_count": 30,
   "id": "7f107bb2",
   "metadata": {},
   "outputs": [],
   "source": [
    "# TODO Modify the function such that Alice can verify that the keys have a difference of r\n",
    "def generate_ap_rsa_keys(\n",
    "    index_genuine_key: int,\n",
    "    number_of_keys: int,\n",
    "    progression_step: int,\n",
    "    key_size: int = 3072,\n",
    ") -> List[RSA.RsaKey]:\n",
    "    \"\"\"Generate RSA keys in arithmetic progression.\n",
    "\n",
    "    Args:\n",
    "        index_genuine_key: Index of the genuine key in the sequence.\n",
    "        number_of_keys: Total number of keys to generate.\n",
    "        progression_step: Step size between consecutive keys.\n",
    "        key_size: Size of RSA key in bits.\n",
    "\n",
    "    Returns:\n",
    "        List of RSA private keys.\n",
    "    \"\"\"\n",
    "    # Generate the first key\n",
    "    key_i = RSA.generate(key_size)\n",
    "\n",
    "    # Create the set of RSA modulus n in arithmetic progression\n",
    "    n_set = [\n",
    "        key_i.n + (j - index_genuine_key) * progression_step\n",
    "        for j in range(number_of_keys)\n",
    "    ]\n",
    "\n",
    "    # Construct all the keys\n",
    "    e = 65537\n",
    "    private_key_set = [RSA.construct((n_set[j], e)) for j in range(number_of_keys)]\n",
    "    # Replace the ith key with key_i\n",
    "    private_key_set[index_genuine_key] = key_i\n",
    "\n",
    "    return private_key_set"
   ]
  },
  {
   "cell_type": "markdown",
   "id": "ee8e654e",
   "metadata": {},
   "source": [
    "Bob: create a set of keys based on `r` to which Alice can verify they all have a \n",
    "difference of `r`, thus proving that Bob only knows the secret key to one of the \n",
    "public keys"
   ]
  },
  {
   "cell_type": "code",
   "execution_count": 31,
   "id": "39ba691d",
   "metadata": {},
   "outputs": [],
   "source": [
    "def generate_ot_keys(\n",
    "    index_genuine_key: int, number_of_keys_to_generate: int, r: int\n",
    ") -> Tuple[List[RSA.RsaKey], List[RSA.RsaKey]]:\n",
    "    \"\"\"Generate key pairs for oblivious transfer.\n",
    "\n",
    "    Args:\n",
    "        index_genuine_key: Index of the genuine key.\n",
    "        number_of_keys_to_generate: Number of key pairs to generate.\n",
    "        r: Random number for arithmetic progression.\n",
    "\n",
    "    Returns:\n",
    "        Tuple containing (private_key_set, public_key_set).\n",
    "    \"\"\"\n",
    "    private_key_set = generate_ap_rsa_keys(\n",
    "        index_genuine_key,\n",
    "        number_of_keys_to_generate,\n",
    "        progression_step=r,\n",
    "    )\n",
    "\n",
    "    public_key_set = [key.public_key() for key in private_key_set]\n",
    "\n",
    "    return private_key_set, public_key_set\n",
    "\n",
    "bob_private_key_set, bob_public_key_set = generate_ot_keys(\n",
    "    message_index,\n",
    "    len(alice_messages),\n",
    "    r,\n",
    ")"
   ]
  },
  {
   "cell_type": "markdown",
   "id": "30d01664",
   "metadata": {},
   "source": [
    "Alice: use the public keys from Bob to encrypt her messages"
   ]
  },
  {
   "cell_type": "code",
   "execution_count": 32,
   "id": "8d711de2",
   "metadata": {},
   "outputs": [],
   "source": [
    "def ot_encrypt_messages(\n",
    "    messages: List[Union[str, bytes]],\n",
    "    public_key_set: List[RSA.RsaKey],\n",
    ") -> List[bytes]:\n",
    "    \"\"\"Encrypt messages using oblivious transfer public keys.\n",
    "\n",
    "    Args:\n",
    "        messages: List of messages to encrypt.\n",
    "        public_key_set: List of RSA public keys.\n",
    "\n",
    "    Returns:\n",
    "        List of encrypted messages.\n",
    "    \"\"\"\n",
    "    encrypted_messages = []\n",
    "    for j in range(len(messages)):\n",
    "        cipher = PKCS1_OAEP.new(public_key_set[j])\n",
    "\n",
    "        # Check if message is already in bytes format\n",
    "        if isinstance(messages[j], bytes):\n",
    "            encrypted_messages.append(cipher.encrypt(messages[j]))\n",
    "        else:\n",
    "            encrypted_messages.append(cipher.encrypt(messages[j].encode(\"utf8\")))\n",
    "    return encrypted_messages\n",
    "\n",
    "alice_messages_encrypted = ot_encrypt_messages(alice_messages, bob_public_key_set)"
   ]
  },
  {
   "cell_type": "markdown",
   "id": "9f7a6a2b",
   "metadata": {},
   "source": [
    "Alice: send the encrypted messages to Bob"
   ]
  },
  {
   "cell_type": "code",
   "execution_count": 33,
   "id": "02824e20",
   "metadata": {},
   "outputs": [],
   "source": [
    "bob_messages_encrypted = alice_messages_encrypted"
   ]
  },
  {
   "cell_type": "markdown",
   "id": "d1c34445",
   "metadata": {},
   "source": [
    "Bob: decrypt the messages that Alice sent"
   ]
  },
  {
   "cell_type": "code",
   "execution_count": 34,
   "id": "00795881",
   "metadata": {},
   "outputs": [],
   "source": [
    "def ot_decrypt_messages(\n",
    "    messages: List[bytes],\n",
    "    private_key_set: List[RSA.RsaKey],\n",
    "    index_genuine_key: int,\n",
    "    output_as_str: bool = True,\n",
    ") -> Union[str, bytes]:\n",
    "    \"\"\"Decrypt message using oblivious transfer private key.\n",
    "\n",
    "    Args:\n",
    "        messages: List of encrypted messages.\n",
    "        private_key_set: List of RSA private keys.\n",
    "        index_genuine_key: Index of the genuine key to use.\n",
    "        output_as_str: If True, returns string, else bytes.\n",
    "\n",
    "    Returns:\n",
    "        Decrypted message as either string or bytes.\n",
    "    \"\"\"\n",
    "    cipher = PKCS1_OAEP.new(private_key_set[index_genuine_key])\n",
    "    if output_as_str:\n",
    "        return cipher.decrypt(messages[index_genuine_key]).decode(\"utf8\")\n",
    "    else:\n",
    "        return cipher.decrypt(messages[index_genuine_key])\n",
    "\n",
    "\n",
    "bob_messages_decrypted = ot_decrypt_messages(\n",
    "    bob_messages_encrypted, bob_private_key_set, message_index\n",
    ")\n",
    "\n",
    "assert bob_messages_decrypted == alice_messages[message_index]"
   ]
  },
  {
   "cell_type": "markdown",
   "id": "d0ac9fc9",
   "metadata": {},
   "source": [
    "#### Example: How To Combine Garbled Circuits and OT"
   ]
  },
  {
   "cell_type": "markdown",
   "id": "15febbca",
   "metadata": {},
   "source": [
    "Convert `bit_passwords` to a list for ease of processing later"
   ]
  },
  {
   "cell_type": "code",
   "execution_count": 35,
   "id": "ceff1049",
   "metadata": {},
   "outputs": [
    {
     "data": {
      "text/plain": [
       "['x_0', 'x_1', 'y_0', 'y_1', 'z_0', 'z_1', 'out_0', 'out_1']"
      ]
     },
     "execution_count": 35,
     "metadata": {},
     "output_type": "execute_result"
    }
   ],
   "source": [
    "bit_passwords_key_list = list(bit_passwords.keys())\n",
    "bit_password_value_list = list(bit_passwords.values())\n",
    "bit_passwords_key_list"
   ]
  },
  {
   "cell_type": "markdown",
   "id": "c9beffc1",
   "metadata": {},
   "source": [
    "Bob: Define the password that he wants to learn"
   ]
  },
  {
   "cell_type": "code",
   "execution_count": 36,
   "id": "3efe2888",
   "metadata": {},
   "outputs": [],
   "source": [
    "bob_password_to_learn = \"x_1\""
   ]
  },
  {
   "cell_type": "markdown",
   "id": "73900914",
   "metadata": {},
   "source": [
    "Bob: Find the index of the password in question on the list"
   ]
  },
  {
   "cell_type": "code",
   "execution_count": 37,
   "id": "4fb434c2",
   "metadata": {},
   "outputs": [],
   "source": [
    "bob_password_index = bit_passwords_key_list.index(bob_password_to_learn)"
   ]
  },
  {
   "cell_type": "markdown",
   "id": "2f918dd7",
   "metadata": {},
   "source": [
    "Bob: generate the keys for the OT"
   ]
  },
  {
   "cell_type": "code",
   "execution_count": 38,
   "id": "5f149d95",
   "metadata": {},
   "outputs": [],
   "source": [
    "bob_private_key_set, bob_public_key_set = generate_ot_keys(\n",
    "    bob_password_index,\n",
    "    len(bit_password_value_list),\n",
    "    r,\n",
    ")"
   ]
  },
  {
   "cell_type": "markdown",
   "id": "fbcc620d",
   "metadata": {},
   "source": [
    "Alice: use Bob's public keys to encrypt all the `bit_passwords`"
   ]
  },
  {
   "cell_type": "code",
   "execution_count": 39,
   "id": "d34a3fc6",
   "metadata": {},
   "outputs": [],
   "source": [
    "alice_bit_passwords_encrypted = ot_encrypt_messages(\n",
    "    bit_password_value_list, bob_public_key_set\n",
    ")"
   ]
  },
  {
   "cell_type": "markdown",
   "id": "fa78b78e",
   "metadata": {},
   "source": [
    "Alice: send the encrypted `bit_passwords` to Bob"
   ]
  },
  {
   "cell_type": "code",
   "execution_count": 40,
   "id": "08368471",
   "metadata": {},
   "outputs": [],
   "source": [
    "bob_bit_passwords_encrypted = alice_bit_passwords_encrypted"
   ]
  },
  {
   "cell_type": "markdown",
   "id": "2dc9a747",
   "metadata": {},
   "source": [
    "Bob: decrypt the encrypted `bit_passwords`"
   ]
  },
  {
   "cell_type": "code",
   "execution_count": 41,
   "id": "f0d63eea",
   "metadata": {},
   "outputs": [],
   "source": [
    "bob_bit_passwords_decrypted = ot_decrypt_messages(\n",
    "    bob_bit_passwords_encrypted,\n",
    "    bob_private_key_set,\n",
    "    bob_password_index,\n",
    "    output_as_str=False,\n",
    ")\n",
    "\n",
    "assert bob_bit_passwords_decrypted == bit_passwords[\"x_1\"]"
   ]
  },
  {
   "cell_type": "markdown",
   "id": "8bbc1b8a",
   "metadata": {},
   "source": [
    "Bob can now use `bob_bit_passwords_decrypted` for `P_left` in the garbled circuit"
   ]
  }
 ],
 "metadata": {
  "kernelspec": {
   "display_name": "Python 3 (ipykernel)",
   "language": "python",
   "name": "python3"
  },
  "language_info": {
   "codemirror_mode": {
    "name": "ipython",
    "version": 3
   },
   "file_extension": ".py",
   "mimetype": "text/x-python",
   "name": "python",
   "nbconvert_exporter": "python",
   "pygments_lexer": "ipython3",
   "version": "3.12.6"
  }
 },
 "nbformat": 4,
 "nbformat_minor": 5
}
