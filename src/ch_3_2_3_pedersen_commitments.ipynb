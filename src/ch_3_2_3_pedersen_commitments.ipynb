{
 "cells": [
  {
   "cell_type": "markdown",
   "metadata": {},
   "source": [
    "# 3 SNARKs Prelude: Elliptic Curves and Polynomial Commitments"
   ]
  },
  {
   "cell_type": "markdown",
   "metadata": {},
   "source": [
    "## 3.2.3 Pedersen Commitments\n",
    "\n",
    "This module implements Pedersen Commitments on the BN128 elliptic curve\n",
    "Pedersen Commitments allow committing to a message while hiding its contents\n",
    "(hiding property) and preventing changes to the committed message (binding property)"
   ]
  },
  {
   "cell_type": "code",
   "execution_count": 12,
   "metadata": {},
   "outputs": [],
   "source": [
    "import random\n",
    "\n",
    "from py_ecc.bn128 import is_on_curve, G1, multiply, add, field_modulus"
   ]
  },
  {
   "cell_type": "markdown",
   "metadata": {
    "vscode": {
     "languageId": "plaintext"
    }
   },
   "source": [
    "### Setup the curve"
   ]
  },
  {
   "cell_type": "code",
   "execution_count": 13,
   "metadata": {},
   "outputs": [],
   "source": [
    "# field_modulus is the order of the finite field\n",
    "# b is the curve parameter in y^2 = x^3 + b\n",
    "b = 3\n",
    "\n",
    "# n is the number of elements in the message vector\n",
    "n = 10"
   ]
  },
  {
   "cell_type": "markdown",
   "metadata": {
    "vscode": {
     "languageId": "plaintext"
    }
   },
   "source": [
    "### Setup the commitment scheme"
   ]
  },
  {
   "cell_type": "code",
   "execution_count": 14,
   "metadata": {},
   "outputs": [],
   "source": [
    "def generate_points(generator, n):\n",
    "    \"\"\"\n",
    "    Generate n random points on the curve using the generator point\n",
    "    Args:\n",
    "        generator: Base point (typically G1)\n",
    "        n: Number of points to generate\n",
    "    Returns:\n",
    "        List of n random points on the curve\n",
    "    \"\"\"\n",
    "    points = []\n",
    "    for _ in range(n):\n",
    "        # Multiply generator by random scalar to get a new point\n",
    "        point = multiply(generator, random.randint(1, field_modulus))\n",
    "        points.append(point)\n",
    "        assert is_on_curve(point, b), \"Point not on curve\"\n",
    "    return points"
   ]
  },
  {
   "cell_type": "code",
   "execution_count": 15,
   "metadata": {},
   "outputs": [
    {
     "name": "stdout",
     "output_type": "stream",
     "text": [
      "g_points: [(18725490956458838167243991259905098724706423926006089871296176453407294961815, 20080506885069499704953334526271611440354129221613436092940645225650050141890), (1764459509849367873850933539352380804121970839344444102455243111860774327992, 11127340387170029492223751389344005051848392043389850959726751253735966723289), (15577305512878102659984598608061084614976072028400168969371775791750036351848, 4641585306856746314652730000889726951356609877943566661000686089863933303636), (6629575477597034015336535702322051802873644305878741472841772599683337296159, 16063164007306310285258754399227342450180496696913592200913196923161805874820), (6181994031999807043245183332517385551107359211559242450344812739251348424829, 602711710996417779280389592462574703103175828061349849190579152306326720232), (21264349782359081387355146905996895397542716084767616763204658930251189675144, 13309752206346959126443098834921779077897086225254923045153992113024303105908), (14221376233027500577564162747863457576712814589460505585723466445666622500933, 3613018048686344467513636430239634723481128697579881088086057921761668727952), (12222157426698373324620887128090503745869681172119799972784298117465025570486, 1928344400272107288888160943151880186433721517860177342014415940815560831980), (11739130223358675850428033396175304072790472927685082770377974735345562830999, 21728962215586611442288480492899060793734498670892346413071363026756619988673), (2415177666391605641223926831144167102838871740597693037021024674312795434862, 15144559264075795631574102773051008643706850248241524332636387945092955884181)]\n",
      "h_point: (19108391011529476005091841930687914064555367129446641276014862051907871722652, 5122595076893056680068183839551652337618030873220483045572369893998847802556)\n"
     ]
    }
   ],
   "source": [
    "def setup(n):\n",
    "    \"\"\"\n",
    "    Initialize the commitment scheme by generating random points\n",
    "    Returns:\n",
    "        g_points: List of n generator points for message elements\n",
    "        h_point: Single generator point for the blinding factor\n",
    "    \"\"\"\n",
    "    g_points = generate_points(G1, n)\n",
    "    h_point = generate_points(G1, 1)[0]\n",
    "    return g_points, h_point\n",
    "\n",
    "g_points, h_point = setup(n)\n",
    "\n",
    "print(\"g_points:\", g_points)\n",
    "print(\"h_point:\", h_point)"
   ]
  },
  {
   "cell_type": "markdown",
   "metadata": {
    "vscode": {
     "languageId": "plaintext"
    }
   },
   "source": [
    "### Commit to the message without a blinding factor"
   ]
  },
  {
   "cell_type": "code",
   "execution_count": 16,
   "metadata": {},
   "outputs": [
    {
     "name": "stdout",
     "output_type": "stream",
     "text": [
      "commitment: (13565881115739227495326087475317141087321087739547873870498725030634369526634, 21679045524449113073431218714793182329813828411759476100876334917652879777632)\n"
     ]
    }
   ],
   "source": [
    "def commit_unblinded(message, g_points):\n",
    "    \"\"\"\n",
    "    Create an unblinded commitment to a message\n",
    "    Args:\n",
    "        message: List of elements to commit to (must be of length <= n)\n",
    "        g_points: List of n generator points\n",
    "    Returns:\n",
    "        commitment: Point on curve representing the commitment\n",
    "    \"\"\"\n",
    "\n",
    "    # Check that the message is of length less than n\n",
    "    if len(message) > n:\n",
    "        raise ValueError(\"Message must be of length <= n\")\n",
    "\n",
    "    commitment = None\n",
    "    for i in range(len(message)):\n",
    "        # Compute sum(message[i] * g_points[i])\n",
    "        commitment = add(commitment, multiply(g_points[i], message[i]))\n",
    "    return commitment\n",
    "\n",
    "\n",
    "# Message to commit to\n",
    "message = [1, 2, 3, 4, 5, 6, 7, 8, 9]\n",
    "\n",
    "commitment = commit_unblinded(message, g_points)\n",
    "\n",
    "print(\"commitment:\", commitment)"
   ]
  },
  {
   "cell_type": "markdown",
   "metadata": {
    "vscode": {
     "languageId": "plaintext"
    }
   },
   "source": [
    "### Open the unblinded commitment"
   ]
  },
  {
   "cell_type": "code",
   "execution_count": 17,
   "metadata": {},
   "outputs": [
    {
     "name": "stdout",
     "output_type": "stream",
     "text": [
      "Unblinded commitment opened successfully\n"
     ]
    }
   ],
   "source": [
    "def open_unblinded(commitment, message, g_points):\n",
    "    \"\"\"\n",
    "    Verify an unblinded commitment by recomputing it from the provided message\n",
    "    Args:\n",
    "        commitment: The original commitment point on the curve to verify against\n",
    "        message: List of elements that were committed to\n",
    "        g_points: List of generator points used in the commitment\n",
    "    Returns:\n",
    "        bool: True if the recomputed commitment matches the original, False otherwise\n",
    "    \"\"\"\n",
    "    # Recompute the commitment using the same process as commit_unblinded\n",
    "    commitment_recalc = None\n",
    "    for i in range(len(message)):\n",
    "        # Compute sum(message[i] * g_points[i])\n",
    "        commitment_recalc = add(commitment_recalc, multiply(g_points[i], message[i]))\n",
    "    # Compare the recomputed commitment with the original\n",
    "    return commitment_recalc == commitment\n",
    "\n",
    "\n",
    "assert open_unblinded(commitment, message, g_points)\n",
    "\n",
    "print(\"Unblinded commitment opened successfully\")"
   ]
  },
  {
   "cell_type": "markdown",
   "metadata": {
    "vscode": {
     "languageId": "plaintext"
    }
   },
   "source": [
    "### Commit to the message with a blinding factor"
   ]
  },
  {
   "cell_type": "code",
   "execution_count": 18,
   "metadata": {},
   "outputs": [
    {
     "name": "stdout",
     "output_type": "stream",
     "text": [
      "commitment_blinded: (13453277017072771600567358117565387896705260836061942768982410552478924756066, 18554979310306464685712558193616630557147230432917422795548551288001654746826)\n",
      "blinding_factor: 14162633885788018090827604296621000685748351301484575608543488636278346390390\n"
     ]
    }
   ],
   "source": [
    "def commit_blinded(message, g_points, h_point):\n",
    "    \"\"\"\n",
    "    Create a blinded commitment to a message\n",
    "    Args:\n",
    "        message: List of elements to commit to (must be of length <= n)\n",
    "        g_points: List of n generator points\n",
    "        h_point: Generator point for blinding factor\n",
    "    Returns:\n",
    "        commitment_blinded: Point on curve representing the blinded commitment\n",
    "        blinding_factor: Random value used for blinding\n",
    "    \"\"\"\n",
    "\n",
    "    # Message must be of length <= n\n",
    "    if len(message) > n:\n",
    "        raise ValueError(\"Message must be of length <= n\")\n",
    "\n",
    "    # First compute unblinded commitment\n",
    "    commitment = None\n",
    "    for i in range(len(message)):\n",
    "        commitment = add(commitment, multiply(g_points[i], message[i]))\n",
    "\n",
    "    # Add randomness through blinding factor\n",
    "    blinding_factor = random.randint(1, field_modulus)\n",
    "    commitment_blinded = add(commitment, multiply(h_point, blinding_factor))\n",
    "\n",
    "    return commitment_blinded, blinding_factor\n",
    "\n",
    "commitment_blinded, blinding_factor = commit_blinded(message, g_points, h_point)\n",
    "\n",
    "print(\"commitment_blinded:\", commitment_blinded)\n",
    "print(\"blinding_factor:\", blinding_factor)"
   ]
  },
  {
   "cell_type": "markdown",
   "metadata": {
    "vscode": {
     "languageId": "plaintext"
    }
   },
   "source": [
    "### Open the blinded commitment"
   ]
  },
  {
   "cell_type": "code",
   "execution_count": 19,
   "metadata": {},
   "outputs": [
    {
     "name": "stdout",
     "output_type": "stream",
     "text": [
      "Blinded commitment opened successfully\n"
     ]
    }
   ],
   "source": [
    "def open_blinded(commitment_blinded, message, g_points, blinding_factor, h_point):\n",
    "    \"\"\"\n",
    "    Verify a blinded commitment\n",
    "    Args:\n",
    "        commitment_blinded: The commitment to verify\n",
    "        message: The claimed message\n",
    "        g_points: List of generator points\n",
    "        blinding_factor: The random value used to blind the commitment\n",
    "        h_point: Generator point for blinding factor\n",
    "    Returns:\n",
    "        bool: True if commitment is valid, False otherwise\n",
    "    \"\"\"\n",
    "    # Recompute the commitment\n",
    "    commitment_recalc = None\n",
    "    for i in range(len(message)):\n",
    "        commitment_recalc = add(commitment_recalc, multiply(g_points[i], message[i]))\n",
    "\n",
    "    # Add randomness through blinding factor\n",
    "    commitment_blinded_recalc = add(\n",
    "        commitment_recalc, multiply(h_point, blinding_factor)\n",
    "    )\n",
    "\n",
    "    return commitment_blinded_recalc == commitment_blinded\n",
    "\n",
    "assert open_blinded(commitment_blinded, message, g_points, blinding_factor, h_point)\n",
    "\n",
    "print(\"Blinded commitment opened successfully\")"
   ]
  }
 ],
 "metadata": {
  "kernelspec": {
   "display_name": "python-3.12",
   "language": "python",
   "name": "python3"
  },
  "language_info": {
   "codemirror_mode": {
    "name": "ipython",
    "version": 3
   },
   "file_extension": ".py",
   "mimetype": "text/x-python",
   "name": "python",
   "nbconvert_exporter": "python",
   "pygments_lexer": "ipython3",
   "version": "3.12.6"
  }
 },
 "nbformat": 4,
 "nbformat_minor": 2
}
