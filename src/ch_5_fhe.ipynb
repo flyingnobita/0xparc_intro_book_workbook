{
 "cells": [
  {
   "cell_type": "markdown",
   "metadata": {},
   "source": [
    "# 5. FHE"
   ]
  },
  {
   "cell_type": "markdown",
   "metadata": {
    "vscode": {
     "languageId": "plaintext"
    }
   },
   "source": [
    "## 5.3.2 Public Key Cryptography from LWE - Encryption Example"
   ]
  },
  {
   "cell_type": "code",
   "execution_count": 1,
   "metadata": {},
   "outputs": [],
   "source": [
    "import random"
   ]
  },
  {
   "cell_type": "markdown",
   "metadata": {},
   "source": [
    "Set the modulus $q$"
   ]
  },
  {
   "cell_type": "code",
   "execution_count": 2,
   "metadata": {},
   "outputs": [],
   "source": [
    "q = 11"
   ]
  },
  {
   "cell_type": "markdown",
   "metadata": {},
   "source": [
    "Define our public key"
   ]
  },
  {
   "cell_type": "code",
   "execution_count": 3,
   "metadata": {},
   "outputs": [],
   "source": [
    "public_key = [\n",
    "    [[1, 0, 1, 7], 2],\n",
    "    [[5, 8, 4, 10], 2],\n",
    "    [[7, 7, 8, 5], 3],\n",
    "    [[5, 1, 10, 6], 10],\n",
    "    [[8, 0, 2, 4], 9],\n",
    "    [[9, 3, 0, 6], 9],\n",
    "    [[0, 6, 1, 6], 9],\n",
    "    [[0, 4, 9, 7], 5],\n",
    "    [[10, 7, 4, 10], 10],\n",
    "    [[5, 5, 10, 6], 9],\n",
    "    [[10, 7, 3, 1], 9],\n",
    "    [[0, 2, 5, 5], 6],\n",
    "    [[9, 10, 2, 1], 3],\n",
    "    [[3, 7, 2, 1], 6],\n",
    "    [[2, 3, 4, 5], 3],\n",
    "    [[2, 1, 6, 9], 3],\n",
    "]"
   ]
  },
  {
   "cell_type": "markdown",
   "metadata": {},
   "source": [
    "Randomly choose 4 rows from the public key"
   ]
  },
  {
   "cell_type": "code",
   "execution_count": 4,
   "metadata": {},
   "outputs": [
    {
     "data": {
      "text/plain": [
       "[[[10, 7, 4, 10], 10],\n",
       " [[3, 7, 2, 1], 6],\n",
       " [[2, 3, 4, 5], 3],\n",
       " [[5, 5, 10, 6], 9]]"
      ]
     },
     "execution_count": 4,
     "metadata": {},
     "output_type": "execute_result"
    }
   ],
   "source": [
    "number_of_rows_to_choose = 4\n",
    "public_key_chosen = random.sample(public_key, number_of_rows_to_choose)\n",
    "public_key_chosen"
   ]
  },
  {
   "cell_type": "markdown",
   "metadata": {},
   "source": [
    "Message $m$ is randomly either $0$ or $5$"
   ]
  },
  {
   "cell_type": "code",
   "execution_count": 5,
   "metadata": {},
   "outputs": [
    {
     "data": {
      "text/plain": [
       "0"
      ]
     },
     "execution_count": 5,
     "metadata": {},
     "output_type": "execute_result"
    }
   ],
   "source": [
    "m = random.choice([0, 5])\n",
    "m"
   ]
  },
  {
   "cell_type": "markdown",
   "metadata": {},
   "source": [
    "Generate our ciphertext"
   ]
  },
  {
   "cell_type": "code",
   "execution_count": 6,
   "metadata": {},
   "outputs": [],
   "source": [
    "def encrypt(\n",
    "    public_key_chosen: list[list[list[int] | int]], q: int, m: int\n",
    ") -> list[list[int] | int]:\n",
    "    \"\"\"Encrypt a message using the Learning With Errors (LWE) encryption scheme.\n",
    "\n",
    "    Args:\n",
    "        public_key_chosen: A list of chosen rows from the public key, where each row contains\n",
    "            a list of integers and a single integer.\n",
    "        q: The modulus value used for arithmetic operations.\n",
    "        m: The message to encrypt (either 0 or 5).\n",
    "\n",
    "    Returns:\n",
    "        A list containing the ciphertext as [x, y] where:\n",
    "            - x is a list of integers representing the sum of public key elements\n",
    "            - y is the encrypted message value\n",
    "    \"\"\"\n",
    "    # Calculate x: For every row of the public key, sum each element of the first item\n",
    "    # modulo q. e.g. 1 + 5 + 7 + 5 = 18 % 11 = 7\n",
    "    x = []\n",
    "    for element in range(len(public_key_chosen[0][0])):\n",
    "        running_sum = 0\n",
    "        for row in public_key_chosen:\n",
    "            running_sum += row[0][element]\n",
    "        x.append(running_sum % q)\n",
    "\n",
    "    # Calculate y_0: Sum the second item of every row modulo q\n",
    "    y_0 = sum([pair[1] for pair in public_key_chosen]) % q\n",
    "\n",
    "    # Calculate the ciphertext\n",
    "    y = y_0 - m\n",
    "    ciphertext = [x, y]\n",
    "\n",
    "    return ciphertext\n",
    "\n",
    "ciphertext = encrypt(public_key_chosen, q, m)"
   ]
  },
  {
   "cell_type": "markdown",
   "metadata": {},
   "source": [
    "## 5.3.3 Decrypt the ciphertext"
   ]
  },
  {
   "cell_type": "markdown",
   "metadata": {},
   "source": [
    "Define our private key $a$"
   ]
  },
  {
   "cell_type": "code",
   "execution_count": 7,
   "metadata": {},
   "outputs": [],
   "source": [
    "a = [10, 8, 10, 10]"
   ]
  },
  {
   "cell_type": "markdown",
   "metadata": {},
   "source": [
    "Decrypt our ciphertext with the given private key"
   ]
  },
  {
   "cell_type": "code",
   "execution_count": 8,
   "metadata": {},
   "outputs": [],
   "source": [
    "def decrypt(\n",
    "    ciphertext: list[list[int] | int], private_key: list[int], modulus: int\n",
    ") -> int:\n",
    "    \"\"\"Decrypt a ciphertext using the Learning With Errors (LWE) decryption scheme.\n",
    "\n",
    "    Args:\n",
    "        ciphertext: A list containing [x, y] where x is a list of integers and y is an integer.\n",
    "        private_key: The private key vector used for decryption.\n",
    "        modulus: The modulus value used for arithmetic operations.\n",
    "\n",
    "    Returns:\n",
    "        The decrypted message value (either 0 or 5).\n",
    "    \"\"\"\n",
    "    # x ⋅ a + 𝜖 = y + m where 0 ≤ 𝜖 ≤ 4\n",
    "\n",
    "    # calculate x ⋅ a\n",
    "    x_dot_a = (\n",
    "        sum([ciphertext[0][i] * private_key[i] for i in range(len(ciphertext[0]))])\n",
    "        % modulus\n",
    "    )\n",
    "\n",
    "    # let m' be our decoded message (whereas m is our original message)\n",
    "    # x ⋅ a + 𝜖 = y + m'\n",
    "    # we know m' is either 0 or 5, and 0 ≤ 𝜖 ≤ 4\n",
    "    for e in range(5):\n",
    "        m_prime = (x_dot_a - ciphertext[1] + e) % modulus\n",
    "        if m_prime in {0, 5}:\n",
    "            break\n",
    "\n",
    "    return m_prime\n",
    "\n",
    "\n",
    "decoded_message = decrypt(ciphertext, a, q)\n",
    "\n",
    "assert decoded_message == m"
   ]
  },
  {
   "cell_type": "markdown",
   "metadata": {},
   "source": [
    "## 5.4.3 The \"Flatten\" Operation"
   ]
  },
  {
   "cell_type": "markdown",
   "metadata": {},
   "source": [
    "Setup our parameters"
   ]
  },
  {
   "cell_type": "code",
   "execution_count": 9,
   "metadata": {},
   "outputs": [],
   "source": [
    "# let r = 1, 𝐯 = (𝑎_1, 2𝑎_1, 4𝑎_1, 8𝑎_1)\n",
    "v = [1, 2, 4, 8]\n",
    "\n",
    "# set the modulus q\n",
    "q = 11"
   ]
  },
  {
   "cell_type": "markdown",
   "metadata": {},
   "source": [
    "Example: Flatten $[9, 0, 0, 0]$"
   ]
  },
  {
   "cell_type": "code",
   "execution_count": 10,
   "metadata": {},
   "outputs": [
    {
     "data": {
      "text/plain": [
       "'1001'"
      ]
     },
     "execution_count": 10,
     "metadata": {},
     "output_type": "execute_result"
    }
   ],
   "source": [
    "def flatten(x: list[int], v: list[int], modulus: int) -> str:\n",
    "    \"\"\"Perform the flatten operation on a vector x with respect to vector v.\n",
    "\n",
    "    The flatten operation converts the dot product of x and v (mod q) into its binary representation.\n",
    "\n",
    "    Args:\n",
    "        x: The input vector to flatten.\n",
    "        v: The vector to compute the dot product with.\n",
    "        modulus: The modulus value used for arithmetic operations.\n",
    "\n",
    "    Returns:\n",
    "        A string representing the binary representation of (x·v mod q), padded with leading zeros\n",
    "        to match the length of vector v.\n",
    "    \"\"\"\n",
    "    # calculate x_dot_v\n",
    "    x_dot_v = sum([x[i] * v[i] for i in range(len(x))]) % modulus\n",
    "\n",
    "    # convert x_dot_v to binary representation with leading 0s\n",
    "    return bin(x_dot_v)[2:].zfill(len(v))\n",
    "\n",
    "x_1 = [9, 0, 0, 0]\n",
    "flatten(x_1, v, q)"
   ]
  },
  {
   "cell_type": "markdown",
   "metadata": {},
   "source": [
    "### Problem 5.4: How to flatten $𝐱 = (9, 3, 1, 4)$?"
   ]
  },
  {
   "cell_type": "code",
   "execution_count": 11,
   "metadata": {},
   "outputs": [
    {
     "data": {
      "text/plain": [
       "'0111'"
      ]
     },
     "execution_count": 11,
     "metadata": {},
     "output_type": "execute_result"
    }
   ],
   "source": [
    "x_2 = [9, 3, 1, 4]\n",
    "flatten(x_2, v, q)"
   ]
  }
 ],
 "metadata": {
  "kernelspec": {
   "display_name": "python-3.12",
   "language": "python",
   "name": "python3"
  },
  "language_info": {
   "codemirror_mode": {
    "name": "ipython",
    "version": 3
   },
   "file_extension": ".py",
   "mimetype": "text/x-python",
   "name": "python",
   "nbconvert_exporter": "python",
   "pygments_lexer": "ipython3",
   "version": "3.12.6"
  }
 },
 "nbformat": 4,
 "nbformat_minor": 2
}
