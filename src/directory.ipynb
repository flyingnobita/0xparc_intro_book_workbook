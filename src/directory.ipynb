{
 "cells": [
  {
   "cell_type": "markdown",
   "metadata": {},
   "source": [
    "# Files Directory\n",
    "\n",
    "## Notebooks\n",
    "\n",
    "- [Chapter 2: Two-party Computation](ch_2_two_party_computation.ipynb)\n",
    "  - [Chapter 2: ElGamal Cryptosystem](ch_2_elgamal.py)\n",
    "- [Chapter 3.2.2: EdDSA Signature Scheme](ch_3_2_2_eddsa.ipynb)\n",
    "- [Chapter 3.2.3: Pedersen Commitments](ch_3_2_3_pedersen_commitments.ipynb)\n",
    "- [Chapter 3.4: KZG Commitments](ch_3_4_kzg.ipynb)\n",
    "- [Chapter 5: FHE](ch_5_fhe.ipynb)\n",
    "- [Chapter 6: Oblivious RAM](ch_6_oram.ipynb)\n",
    "\n",
    "## Tests\n",
    "\n",
    "- [Chapter 2 ElGamal Tests](../tests/test_ch_2_elgamal.py)\n",
    "- [Chapter 6 ORAM Tests](../tests/test_ch_6_oram.py)\n"
   ]
  }
 ],
 "metadata": {
  "language_info": {
   "name": "python"
  }
 },
 "nbformat": 4,
 "nbformat_minor": 2
}
