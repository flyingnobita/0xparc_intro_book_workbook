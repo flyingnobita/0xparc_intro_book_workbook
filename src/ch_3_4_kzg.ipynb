{
 "cells": [
  {
   "cell_type": "markdown",
   "metadata": {},
   "source": [
    "# 3 SNARKs Prelude: Elliptic Curves and Polynomial Commitments"
   ]
  },
  {
   "cell_type": "markdown",
   "metadata": {},
   "source": [
    "## 3.4 KZG Commitments\n",
    "\n",
    "We will use the BLS12-381 curve as this is the most common curve used in KZG due \n",
    "to its security properties. However, note that KZG can work with other curves \n",
    "that are pairing-friendly (including BN254). Factors such as speed, security, \n",
    "and ease of implementation impact the choice of curves.\n",
    "\n",
    "For more info, see https://docs.gnark.consensys.io/Concepts/schemes_curves"
   ]
  },
  {
   "cell_type": "code",
   "execution_count": 1,
   "metadata": {},
   "outputs": [],
   "source": [
    "import numpy as np\n",
    "import galois\n",
    "from py_ecc.bls12_381 import (\n",
    "    G1,\n",
    "    G2,\n",
    "    add,\n",
    "    b,\n",
    "    b2,\n",
    "    curve_order,\n",
    "    is_on_curve,\n",
    "    multiply,\n",
    "    neg,\n",
    "    pairing,\n",
    ")"
   ]
  },
  {
   "cell_type": "code",
   "execution_count": 2,
   "metadata": {},
   "outputs": [],
   "source": [
    "def generate_s_points(generator, scalar, b, max_degree):\n",
    "    \"\"\"\n",
    "    Generates a sequence of points by repeatedly multiplying a generator point with increasing powers of a scalar.\n",
    "    \n",
    "    Args:\n",
    "        generator: The base point (either G1 or G2) to start the sequence\n",
    "        scalar: The secret value to be used for multiplying with the generator\n",
    "        b: The curve parameter (b for G1 or b2 for G2)\n",
    "        max_degree: The maximum degree of the polynomial\n",
    "    \n",
    "    Returns:\n",
    "        list: A list of points [g, g*s, g*s^2, ..., g*s^max_degree]\n",
    "    \"\"\"\n",
    "\n",
    "    s_points = []\n",
    "    for i in range(max_degree + 1):\n",
    "        if i == 0:\n",
    "            s_points.append(multiply(generator, int(scalar**i)))\n",
    "        else:\n",
    "            s_points.append(multiply(s_points[i - 1], int(scalar)))\n",
    "        assert is_on_curve(s_points[i], b), \"Point not on curve\"\n",
    "    return s_points"
   ]
  },
  {
   "cell_type": "markdown",
   "metadata": {},
   "source": [
    "### *Warning: The `setup()` function takes some time to run (up to 3-4 minutes)*"
   ]
  },
  {
   "cell_type": "code",
   "execution_count": 3,
   "metadata": {},
   "outputs": [
    {
     "name": "stdout",
     "output_type": "stream",
     "text": [
      "gf_q.properties:  Galois Field:\n",
      "  name: GF(52435875175126190479447740508185965837690552500527637822603658699938581184513)\n",
      "  characteristic: 52435875175126190479447740508185965837690552500527637822603658699938581184513\n",
      "  degree: 1\n",
      "  order: 52435875175126190479447740508185965837690552500527637822603658699938581184513\n",
      "  irreducible_poly: x + 52435875175126190479447740508185965837690552500527637822603658699938581184506\n",
      "  is_primitive_poly: True\n",
      "  primitive_element: 7\n",
      "g1_points:  [(3685416753713387016781088315183077757961620795782546409894578378688607592378376318836054947676345821548104185464507, 1339506544944476473020471379941921221584933875938349620426543736416511423956333506472724655353366534992391756441569), (3982404253829627245972370686408123140794956454978249433094263843281360890552377662585137471646003133196647364883155, 734472481102702211893396339168118634639086602787430512698433023505091644448201607809299961596434514856743933483216), (2503275843285543692823814007058094817066344738894321198839929605753944657724918853417118730705431820804638926891924, 3059325324696822793260538610838006712550560805172502608111074673032014864946135556861745023967993760928204779340637), (2149368559930032659865951615904615650924202961081841161152738424903408122307266942821795457556948136796633188756059, 1789561734614243956881163085679988662246382045463730201389833746968384422964994601468162492122088137808705919474212), (1308685101820265247731920283453711420822223309725424049360893983495443856688167532790194215794308447982240500373373, 759936450442399838859118085578705891237044886638201259986015514821992145248446057620997388509995337610120131974470), (1950258997358088063223715800448070524902857881378875695900494159232608262850267159429634756991103034612641151633159, 3841430793188140428516055259786222207946597411404124272200002872710799983204605090728128607077446570789440893321100), (2622430274853144436710470452527289341324784458076768241458826865104269268741215472380717207361622938346567846236112, 3400633490690688945816993459010645776780823183579320407807176569983345012798936745596920017909449308174428240518496), (383712660501621694206787982310162640447282937853160393542013411482604752463289097952120999784706425382179722166624, 2808381342465830675485900087553994523406907344327366464921164284188043005947064619566470894202230736501889427996111), (2872856883336281145412244848533882903496957595352751640159274411755057082058136455767498055674779762736357622038753, 686439455618207622920036030480183311266493125370545353718433537563610226962725407180651040755606934950790620371135), (3241972539855869050448155039372492673491911004203980676513579617299300651838804846835358139705135765883416082410440, 518485261039166829844133798077598850347152887178530302051078973555520560666863449506760459796348754619213177774990), (13748713163170326844585219655934696432784884220871320955096541467219171486356554293596832559389530421167470051911, 3142449685535020962785460747802862814898697572221480108922574294409008614700446482591405905573617150725473958390915)]\n",
      "g2_points:  [((352701069587466618187139116011060144890029952792775240219908644239793785735715026873347600343865175952761926303160, 3059144344244213709971259814753781636986470325476647558659373206291635324768958432433509563104347017837885763365758), (1985150602287291935568054521177171638300868978215655730859378665066344726373823718423869104263333984641494340347905, 927553665492332455747201965776037880757740193453592970025027978793976877002675564980949289727957565575433344219582)), ((1491588557994135294584902490820822659239435137621601237408359591369283378984721469103238086901735295999355063189144, 917154761643832286545520644262893815842552964813744988525170218795626320811556500880131227051057919214697159682056), (3600843817669100694578061891995485072854153921222796982162413639180140563802589345384301454306151184142212885193679, 1218766814467053574048943852476202157754874268641589036461832856673106971947695490489864136528566650958712276588416)), ((666240698938826824080898037289832025603300131637253010019476446264330616908617458749297318533074382673085599254049, 3096393931224658349383664571457354462006885103810975415787561723859139173527518898598963456784783617647816140031407), (1589228868417908090396522674036653870900202211384679417703028033946603402102665014456720293171681668069279003990180, 1845617718753849020714850939434234856561138044738377882112332116913969100656917118588227123968798064211438536543851)), ((2838832714410565134850838685961240027108761181955090053018479872133814815800449485466079635659359385798338572174910, 1686869563271867043224958754498139404044632174302499323577866061725591238127822669674904465096695887377811685775283), (1718387738100369254623688963739698919033715187690913047341412038251695785955199991263688550621753131216890046334278, 214162974599805966324293491771827664727087667966530101150720303943390832718023004134793280262593203873535229903731)), ((1834986075296649585910407073416009800850792382218637087954819253978448036289199170427575119373869753825334362183780, 963105227055529995524684732964300748341955525013253362245189474247365946871276834071591090106238403308195399514875), (2885612366122171706957919910791145458169738946911922122073796474397601786975681509629968530383505542391887259204904, 134179102906044059857016072387341468921925430750997781247261960580952592691948727174731939871505476354204505878100)), ((2051187712700404401688589465548676171717977734955993358945060527208555021242156909637219883435699863845253764343044, 3663389991077679450117385500564558910060489270210770557905372333599564761588055023869603065751218212092139555189011), (1340853886980345969139996107826476177907417760108469674547682622337368243411455269644642481143543617572009528166466, 368612616194192372753290027662186301972170638107251469256564206573871764042612020759405491496280707952350656356234)), ((2036267989631317164416897745978874179808441376935250694741669640164355892724058817070084418377751378818136802426241, 1054302790541605931006611016655882670377486779274073421333385560250453860075594598429800140579830415400717679532069), (68640156321621379601113310769343238354412495425687758409630203577541742091379440810778675699280589373199957421103, 2534741399376954196526933438413088047510737190926827583619978992937121479154241456086584274592292568181103396113394)), ((2645323279510513287209115953563427473785014184008506264626959748944115135628973329502525604695908209608524246977609, 680953352166094849169066947478008539501479300041320148349738151607204750930358022840324924164613012479777400559884), (846131662462319495465029213680913289131204998148626298302620535980290644847295296269255657435221126245487859892558, 2176175944556354954368716014679215180154777485305345593097574724913400012581722106245495849809799181589308757551147)), ((1834751124520696288104386667209344792171281485949905850289468127059930955371590085028687605908252299211528232203287, 2234763297837811304418240521399163748442553822249321787147905284748001689561853826993330068172877154061138245857975), (1918584436876171665236139359527815229800180141031939053723558587639867871448801342201526087547458854608146323020270, 1246444394601137064647825461694084323821946864935712251809838484124690829960244327950520204436064509788755900847359)), ((806273278643841906068485880876759992193091287487766653506545787235663925930796948052318231906599041858374777240128, 3602722328479615088113309277443134337775555930423876550434444899759932487882539852922651389381581154566255370739768), (1454142138251455662187372612463663477466209909678229832496682227706481777189077368362847779571153993434530761339832, 2511061935048428292877382240729493309486303169130338387465075350841105023695822546750192031070557840600601962637157)), ((3030696004801247294274683470878570445087626829323338069434801909468480175420489737849965962681286730136377393455015, 1195849576259454627066810773703695854129910703062924433132189619081382525298162053005272513607972825548087854047174), (2891688383727081146347391791204757997823171024372672928509768985885933229561501366751857416699013546864917016191236, 1225008965558923978012188510093994790656316786238062099712644491645583631312808471992675707104041423610527555587458))]\n"
     ]
    }
   ],
   "source": [
    "def setup(max_degree):\n",
    "    \"\"\"\n",
    "    Initializes the trusted setup for KZG commitments by generating the finite \n",
    "    field and SRS (structured reference strings).\n",
    "    \n",
    "    Args:\n",
    "        max_degree: The maximum polynomial degree supported by the setup\n",
    "    \n",
    "    Returns:\n",
    "        tuple: (gf_q, g1_points, g2_points) where gf_q is the finite field of \n",
    "        order matching the curve order, and g1_points, g2_points are lists of points \n",
    "        representing powers of a secret value\n",
    "    \"\"\"\n",
    "\n",
    "    # Create the finite field of order from BLS12-381\n",
    "    # Note: this has moved out of setup() because it takes a longer time to run\n",
    "    gf_q = galois.GF(curve_order)\n",
    "\n",
    "    # Generate [s^0], [𝑠^1], …, [s^max_degree]\n",
    "    # s_points = [[s^0=1], [s^1], [s^2], ..., [s^max_degree]]\n",
    "    s = gf_q.Random()\n",
    "\n",
    "    # BLS12-381 operates in 3 groups, G1, G2, and GT(target group)\n",
    "    # We need to generate a set of points in G1 and G2 separately\n",
    "    g1_points = generate_s_points(G1, s, b, max_degree)\n",
    "    g2_points = generate_s_points(G2, s, b2, max_degree)\n",
    "\n",
    "    return gf_q, g1_points, g2_points\n",
    "\n",
    "# Set the maximum degree of the polynomial that we want to support\n",
    "max_degree = 10\n",
    "\n",
    "# Run the trusted setup\n",
    "gf_q, g1_points, g2_points = setup(max_degree)\n",
    "\n",
    "print(\"gf_q.properties: \", gf_q.properties)\n",
    "print(\"g1_points: \", g1_points)\n",
    "print(\"g2_points: \", g2_points)"
   ]
  },
  {
   "cell_type": "code",
   "execution_count": 4,
   "metadata": {},
   "outputs": [
    {
     "name": "stdout",
     "output_type": "stream",
     "text": [
      "polynomial:  26217937587563095239723870254092982918845276250263818911301829349969290592302x^3 + 52435875175126190479447740508185965837690552500527637822603658699938581184155x^2 + 26217937587563095239723870254092982918845276250263818911301829349969290593102x + 52435875175126190479447740508185965837690552500527637822603658699938581183990\n",
      "polynomial.coefficients:  [26217937587563095239723870254092982918845276250263818911301829349969290592302\n",
      " 52435875175126190479447740508185965837690552500527637822603658699938581184155\n",
      " 26217937587563095239723870254092982918845276250263818911301829349969290593102\n",
      " 52435875175126190479447740508185965837690552500527637822603658699938581183990]\n",
      "polynomial.degree:  3\n"
     ]
    }
   ],
   "source": [
    "def points_to_polynomial(polynomial_points):\n",
    "    \"\"\"\n",
    "    Converts a set of points to a polynomial using Lagrange interpolation.\n",
    "    \n",
    "    Args:\n",
    "        polynomial_points: List of tuples (x, y) representing points the polynomial should pass through\n",
    "    \n",
    "    Returns:\n",
    "        galois.Poly: The interpolated polynomial passing through all given points\n",
    "    \"\"\"\n",
    "\n",
    "    # Extract x and y coordinates separately\n",
    "    point_xs = [point[0] for point in polynomial_points]\n",
    "    point_ys = [point[1] for point in polynomial_points]\n",
    "\n",
    "    point_xs_np = np.array(point_xs, dtype=object).view(gf_q)\n",
    "    point_ys_np = np.array(point_ys, dtype=object).view(gf_q)\n",
    "\n",
    "    polynomial = galois.lagrange_poly(point_xs_np, point_ys_np)\n",
    "    return polynomial\n",
    "\n",
    "# Array of points that the polynomial pass through\n",
    "polynomial_points = [(1, 10), (2, 100), (3, 20), (4, 43)]\n",
    "\n",
    "polynomial = points_to_polynomial(polynomial_points)\n",
    "print(\"polynomial: \", polynomial)\n",
    "print(\"polynomial.coefficients: \", polynomial.coefficients())\n",
    "print(\"polynomial.degree: \", polynomial.degree)"
   ]
  },
  {
   "cell_type": "code",
   "execution_count": 5,
   "metadata": {},
   "outputs": [],
   "source": [
    "def sumproduct_polynomial_spoints(polynomial, s_points):\n",
    "    \"\"\"\n",
    "    Computes the sum of products between polynomial coefficients and points in the SRS.\n",
    "    \n",
    "    Args:\n",
    "        polynomial: The polynomial\n",
    "        s_points: The structured reference string points\n",
    "    \n",
    "    Returns:\n",
    "        Point: Result of ∑(c_i * [s^i]) where c_i are polynomial coefficients\n",
    "    \"\"\"    \n",
    "    polynomial_coefficients_asc = polynomial.coefficients(order=\"asc\")\n",
    "    result = None\n",
    "    for i in range(polynomial.degree + 1):\n",
    "        result = add(result, multiply(s_points[i], int(polynomial_coefficients_asc[i])))\n",
    "    return result"
   ]
  },
  {
   "cell_type": "code",
   "execution_count": 6,
   "metadata": {},
   "outputs": [
    {
     "name": "stdout",
     "output_type": "stream",
     "text": [
      "commitment:  (3364413633711050695046780700920215284417449184428090531191352740059984905088265681287713779715576690154883778372173, 1692184286439575245898825068319846481333628302254770573251388666016729322468643555236365039273206156003646439196324)\n"
     ]
    }
   ],
   "source": [
    "def commit(polynomial, s_points):\n",
    "    \"\"\"\n",
    "    Computes the commitment to a polynomial using the SRS.\n",
    "    \n",
    "    Args:\n",
    "        polynomial: The polynomial\n",
    "        s_points: The structured reference string points\n",
    "    \n",
    "    Returns:\n",
    "        Point: The commitment to the polynomial\n",
    "    \"\"\"\n",
    "    assert polynomial.degree <= len(\n",
    "        s_points\n",
    "    ), \"Polynomial must have a degree less than or equal to the number of s_points\"\n",
    "\n",
    "    # Compute the commitment\n",
    "    return sumproduct_polynomial_spoints(polynomial, s_points)\n",
    "\n",
    "commitment = commit(polynomial, g1_points)\n",
    "print(\"commitment: \", commitment)"
   ]
  },
  {
   "cell_type": "code",
   "execution_count": 7,
   "metadata": {},
   "outputs": [
    {
     "name": "stdout",
     "output_type": "stream",
     "text": [
      "opening_proof:  (3075901013514065172492909831714058993198985229763057217365488205591021229699101763295991001578223001103961984042548, 1962958860873879012275526719739244900598758250689397774589119851663439216208509677056857051930333930031650538051805)\n"
     ]
    }
   ],
   "source": [
    "def open(\n",
    "    polynomial,\n",
    "    opening_point,\n",
    "    s_points,\n",
    "):\n",
    "    \"\"\"\n",
    "    Generates a proof of evaluation for specific points of the polynomial.\n",
    "    \n",
    "    Args:\n",
    "        polynomial: The committed polynomial\n",
    "        opening_point: List of (x, y) points to prove\n",
    "        s_points: The structured reference string points\n",
    "    \n",
    "    Returns:\n",
    "        Point: The opening proof [Q(s)]\n",
    "    \"\"\"\n",
    "\n",
    "    # Calculate the Quotient Polynomial\n",
    "    opening_point_polynomial = points_to_polynomial(opening_point)\n",
    "    p_x_minus_y = polynomial - opening_point_polynomial\n",
    "\n",
    "    # For each point in the opening_points, multiply denominator by (X - x_opening_point)\n",
    "    # This builds the polynomial that has roots at all the x-coordinates\n",
    "    x_minus_opening_point = galois.Poly([1], gf_q)\n",
    "    for x_opening_point in opening_point:\n",
    "        x_minus_opening_point = x_minus_opening_point * (galois.Poly([1, -x_opening_point[0]], gf_q))\n",
    "    \n",
    "    # P(X) - y / (X - z)\n",
    "    quotient, reminder = divmod(p_x_minus_y, x_minus_opening_point)\n",
    "\n",
    "    # Check the remainder is zero\n",
    "    assert reminder == 0, \"Remainder is not zero\"\n",
    "\n",
    "    # Calculate the opening proof from the Quotient Polynomial\n",
    "    opening_proof = sumproduct_polynomial_spoints(quotient, s_points)\n",
    "    return opening_proof\n",
    "\n",
    "# Calculate opening proof, [Q(s)]\n",
    "opening_points = [(1, 10), (3, 20)]\n",
    "opening_proof = open(polynomial, opening_points, g1_points)\n",
    "print(\"opening_proof: \", opening_proof)"
   ]
  },
  {
   "cell_type": "code",
   "execution_count": 8,
   "metadata": {},
   "outputs": [
    {
     "name": "stdout",
     "output_type": "stream",
     "text": [
      "verify_result:  True\n"
     ]
    }
   ],
   "source": [
    "def verify(\n",
    "    opening_points,\n",
    "    opening_proof,\n",
    "    commitment,\n",
    "):\n",
    "    \"\"\"\n",
    "    Verifies a KZG proof of evaluation.\n",
    "    \n",
    "    Args:\n",
    "        opening_points: List of (x, y) points being proven\n",
    "        opening_proof: The proof point [Q(s)]\n",
    "        commitment: The original commitment [P(s)]\n",
    "    \n",
    "    Returns:\n",
    "        bool: True if the proof is valid, False otherwise\n",
    "    \"\"\"\n",
    "\n",
    "    # Create polynomial z(X) = ∏(X - x_i)\n",
    "    opening_points_xs = [point[0] for point in opening_points]\n",
    "    z = galois.Poly([1], gf_q)\n",
    "    for x in opening_points_xs:\n",
    "        z = z * galois.Poly([gf_q(1), -x], gf_q)\n",
    "\n",
    "    # Compute [z]\n",
    "    z_armor = sumproduct_polynomial_spoints(z, g2_points)\n",
    "    lhs = pairing(z_armor, opening_proof)\n",
    "    \n",
    "    # Calculate the right hand side of the equation\n",
    "    opening_points_polynomial = points_to_polynomial(opening_points)\n",
    "    y_armor = sumproduct_polynomial_spoints(opening_points_polynomial, g1_points)\n",
    "    rhs = pairing(G2, add(commitment, neg(y_armor)))\n",
    "\n",
    "    # verify pair([Q(s)], [s] − [z]) = pair([P(s)] − [y], [1]) \n",
    "    # i.e. verify pair(opening_proof, g2_points - point * G2) == e(commitment - [opening_point_polynomial], G2)\n",
    "    return lhs == rhs\n",
    "\n",
    "verify_result = verify(opening_points, opening_proof, commitment)\n",
    "print(\"verify_result: \", verify_result)\n",
    "assert verify_result, \"Verification failed\""
   ]
  }
 ],
 "metadata": {
  "kernelspec": {
   "display_name": "python-3.12",
   "language": "python",
   "name": "python3"
  },
  "language_info": {
   "codemirror_mode": {
    "name": "ipython",
    "version": 3
   },
   "file_extension": ".py",
   "mimetype": "text/x-python",
   "name": "python",
   "nbconvert_exporter": "python",
   "pygments_lexer": "ipython3",
   "version": "3.12.6"
  }
 },
 "nbformat": 4,
 "nbformat_minor": 2
}
