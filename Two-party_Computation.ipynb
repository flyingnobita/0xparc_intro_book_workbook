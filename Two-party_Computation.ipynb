{
 "cells": [
  {
   "cell_type": "code",
   "execution_count": 1,
   "id": "c0e06e8b-0ed3-4b99-9977-bdcdfcf26c03",
   "metadata": {},
   "outputs": [],
   "source": [
    "import json\n",
    "import random\n",
    "from base64 import b64encode, b64decode\n",
    "from Crypto.Cipher import AES\n",
    "from Crypto.Util.Padding import pad, unpad\n",
    "from Crypto.Random import get_random_bytes\n",
    "from Crypto.Hash import SHA3_256\n",
    "from Crypto.PublicKey import RSA\n",
    "from Crypto.Cipher import PKCS1_OAEP"
   ]
  },
  {
   "cell_type": "markdown",
   "id": "ee7e7ca5",
   "metadata": {},
   "source": [
    "### 2.1.3 Garbled gates"
   ]
  },
  {
   "cell_type": "code",
   "execution_count": 2,
   "id": "880a792c-03e0-417d-be66-72db0b1321a9",
   "metadata": {},
   "outputs": [],
   "source": [
    "# Create an input array of 2-bits\n",
    "input_x_array = [0, 1]\n",
    "input_y_array = [0, 1]\n",
    "input_array = [f\"{x}{y}\" for x in input_x_array for y in input_y_array]"
   ]
  },
  {
   "cell_type": "code",
   "execution_count": 3,
   "id": "c13706dc",
   "metadata": {},
   "outputs": [],
   "source": [
    "# Compute the output of the XOR gate\n",
    "def xor_gate(x, y):\n",
    "    return \"0\" if x == y else \"1\""
   ]
  },
  {
   "cell_type": "code",
   "execution_count": 4,
   "id": "ce315cc7",
   "metadata": {},
   "outputs": [],
   "source": [
    "# Given a plaintext and a password, encrypt it and return the initialization vector\n",
    "# and ciphertext in bytes\n",
    "def encrypt_data(password, plaintext, input_as_bytes=False):\n",
    "    cipher = AES.new(password, AES.MODE_CBC)\n",
    "    initialization_vector = cipher.iv\n",
    "    if input_as_bytes:\n",
    "        ciphertext_bytes = cipher.encrypt(pad(plaintext, AES.block_size))\n",
    "    else:\n",
    "        ciphertext_bytes = cipher.encrypt(\n",
    "            pad(plaintext.encode(\"utf-8\"), AES.block_size)\n",
    "        )\n",
    "    return initialization_vector, ciphertext_bytes"
   ]
  },
  {
   "cell_type": "code",
   "execution_count": 5,
   "id": "1605d625",
   "metadata": {},
   "outputs": [],
   "source": [
    "# Given a password, ciphertext, and initialization vector, decrypt the ciphertext\n",
    "def decrypt_data(\n",
    "    password, ciphertext_bytes, initialization_vector, input_as_bytes=False\n",
    "):\n",
    "    cipher = AES.new(password, AES.MODE_CBC, initialization_vector)\n",
    "    if input_as_bytes:\n",
    "        plaintext = unpad(cipher.decrypt(ciphertext_bytes), AES.block_size)\n",
    "    else:\n",
    "        plaintext = unpad(cipher.decrypt(ciphertext_bytes), AES.block_size).decode(\n",
    "            \"utf-8\"\n",
    "        )\n",
    "    return plaintext"
   ]
  },
  {
   "cell_type": "code",
   "execution_count": 6,
   "id": "07b99595",
   "metadata": {},
   "outputs": [],
   "source": [
    "# Store the output of the XOR gate for each input\n",
    "plain_gate_outputs = [xor_gate(x, y) for x in input_x_array for y in input_y_array]\n",
    "\n",
    "# Create arrays to save the password, initialization vector, and ciphertext\n",
    "passwords = []\n",
    "initialization_vectors = []\n",
    "garbled_gate_outputs = []\n",
    "\n",
    "# Generate ciphertext for each gate output\n",
    "for index_bob_message in range(len(plain_gate_outputs)):\n",
    "    # Convert the input to bytes\n",
    "    data = plain_gate_outputs[index_bob_message]\n",
    "\n",
    "    # Generate a random key for each input and save it to the password array\n",
    "    passwords.append(get_random_bytes(16))\n",
    "\n",
    "    # Encrypt the data using the password\n",
    "    initialization_vector, ciphertext_bytes = encrypt_data(\n",
    "        passwords[index_bob_message], data\n",
    "    )\n",
    "\n",
    "    # Save the initialization vector and ciphertext to the arrays\n",
    "    initialization_vectors.append(initialization_vector)\n",
    "    garbled_gate_outputs.append(ciphertext_bytes)"
   ]
  },
  {
   "cell_type": "code",
   "execution_count": 7,
   "id": "ebecf392",
   "metadata": {},
   "outputs": [],
   "source": [
    "# Bob: Decrypt the ciphertext for x = 0, y = 1\n",
    "\n",
    "# Lookup the index for input x = 0, y = 1\n",
    "index = input_array.index(\"01\")\n",
    "\n",
    "# Get the password, initialization vector, and ciphertext for the 4th row\n",
    "password = passwords[index]\n",
    "initialization_vector = initialization_vectors[index]\n",
    "ciphertext_bytes = garbled_gate_outputs[index]\n",
    "\n",
    "# Decrypt the ciphertext\n",
    "plaintext = decrypt_data(password, ciphertext_bytes, initialization_vector)\n",
    "\n",
    "# Check that the output is 1 since XOR(0, 1) = 1\n",
    "assert plaintext == \"1\""
   ]
  },
  {
   "cell_type": "markdown",
   "id": "c7330f37",
   "metadata": {},
   "source": [
    "### 2.1.4 Chaining garbled gates"
   ]
  },
  {
   "cell_type": "code",
   "execution_count": 8,
   "id": "d620c94f",
   "metadata": {},
   "outputs": [],
   "source": [
    "# Define the inputs bits and output bits\n",
    "input_bit_x_0 = \"0\"\n",
    "input_bit_x_1 = \"1\"\n",
    "input_bit_y_0 = \"0\"\n",
    "input_bit_y_1 = \"1\"\n",
    "input_bit_z_0 = \"0\"\n",
    "input_bit_z_1 = \"1\"\n",
    "output_bit_0 = \"0\"\n",
    "output_bit_1 = \"1\"\n",
    "\n",
    "# Generate passwords and create arrays to save the passwords for each gate\n",
    "input_bit_x_0_password = get_random_bytes(16)\n",
    "input_bit_x_1_password = get_random_bytes(16)\n",
    "input_bit_y_0_password = get_random_bytes(16)\n",
    "input_bit_y_1_password = get_random_bytes(16)\n",
    "input_bit_z_0_password = get_random_bytes(16)\n",
    "input_bit_z_1_password = get_random_bytes(16)\n",
    "output_bit_0_password = get_random_bytes(16)\n",
    "output_bit_1_password = get_random_bytes(16)\n",
    "\n",
    "input_bit_x_0_iv, input_bit_x_0_encrypted = encrypt_data(\n",
    "    input_bit_x_0_password, input_bit_x_0\n",
    ")\n",
    "input_bit_x_1_iv, input_bit_x_1_encrypted = encrypt_data(\n",
    "    input_bit_x_1_password, input_bit_x_1\n",
    ")\n",
    "input_bit_y_0_iv, input_bit_y_0_encrypted = encrypt_data(\n",
    "    input_bit_y_0_password, input_bit_y_0\n",
    ")\n",
    "input_bit_y_1_iv, input_bit_y_1_encrypted = encrypt_data(\n",
    "    input_bit_y_1_password, input_bit_y_1\n",
    ")\n",
    "input_bit_z_0_iv, input_bit_z_0_encrypted = encrypt_data(\n",
    "    input_bit_z_0_password, input_bit_z_0\n",
    ")\n",
    "input_bit_z_1_iv, input_bit_z_1_encrypted = encrypt_data(\n",
    "    input_bit_z_1_password, input_bit_z_1\n",
    ")\n",
    "output_bit_0_iv, output_bit_0_encrypted = encrypt_data(\n",
    "    output_bit_0_password, output_bit_0\n",
    ")\n",
    "output_bit_1_iv, output_bit_1_encrypted = encrypt_data(\n",
    "    output_bit_1_password, output_bit_1\n",
    ")"
   ]
  },
  {
   "cell_type": "code",
   "execution_count": 9,
   "id": "cf464f6f",
   "metadata": {},
   "outputs": [],
   "source": [
    "# Hash function to combine the two inputs\n",
    "def hash_function(x, y):\n",
    "    hash_object = SHA3_256.new()\n",
    "    # Update the hash object with the bytes of the input\n",
    "    hash_object.update(x)\n",
    "    hash_object.update(y)\n",
    "    return hash_object.digest()"
   ]
  },
  {
   "cell_type": "code",
   "execution_count": 10,
   "id": "8bf90cdd",
   "metadata": {},
   "outputs": [],
   "source": [
    "# Construct Garbled gate: AND(x, y)\n",
    "and_garbled_gate = {}\n",
    "for x_bit, x_password in [(0, input_bit_x_0_password), (1, input_bit_x_1_password)]:\n",
    "    for y_bit, y_password in [(0, input_bit_y_0_password), (1, input_bit_y_1_password)]:\n",
    "        # Compute hash of input passwords\n",
    "        hash_key = hash_function(x_password, y_password)\n",
    "        # Compute AND gate output\n",
    "        output = \"0\" if x_bit & y_bit == 0 else \"1\"\n",
    "        # Encrypt the output\n",
    "        if output == \"0\":\n",
    "            iv, ciphertext = encrypt_data(\n",
    "                hash_key, output_bit_0_password, input_as_bytes=True\n",
    "            )\n",
    "        else:\n",
    "            iv, ciphertext = encrypt_data(\n",
    "                hash_key, output_bit_1_password, input_as_bytes=True\n",
    "            )\n",
    "        # Store in garbled gate\n",
    "        and_garbled_gate[hash_key] = (iv, ciphertext)"
   ]
  },
  {
   "cell_type": "markdown",
   "id": "160cdf92",
   "metadata": {},
   "source": [
    "### 2.1.5 How Bob uses one gate"
   ]
  },
  {
   "cell_type": "code",
   "execution_count": 11,
   "id": "972e3253",
   "metadata": {},
   "outputs": [],
   "source": [
    "# Bob: Lookup the garbled gate for input P_0_left, P_1_right\n",
    "P_0_left = input_bit_x_0_password\n",
    "P_1_right = input_bit_y_1_password\n",
    "\n",
    "hash_passwords = hash_function(P_0_left, P_1_right)\n",
    "\n",
    "# Bob: Lookup the row in the garbled gate\n",
    "iv, ciphertext = and_garbled_gate[hash_passwords]\n",
    "\n",
    "# Bob: Decrypt the row\n",
    "P_0_output = decrypt_data(hash_passwords, ciphertext, iv, input_as_bytes=True)\n",
    "assert P_0_output == output_bit_0_password"
   ]
  },
  {
   "cell_type": "code",
   "execution_count": 12,
   "id": "73f45417",
   "metadata": {},
   "outputs": [],
   "source": [
    "### TODO: Example of how to chain garbled gates\n",
    "\n",
    "# We have 2 garbled gates, and we want to chain them together\n",
    "# 1st gate: AND(x, y)\n",
    "# 2nd gate: XOR(AND(x, y), z)\n",
    "\n",
    "# Alice: Send the encrypted outputs to Bob\n",
    "\n",
    "# Bob: Decrypt the output of the second gate"
   ]
  },
  {
   "cell_type": "markdown",
   "id": "fe179307",
   "metadata": {},
   "source": [
    "### 2.2 Oblivious transfer"
   ]
  },
  {
   "cell_type": "markdown",
   "id": "b75d7605",
   "metadata": {},
   "source": [
    "#### 2.2.1 Commutative encryption"
   ]
  },
  {
   "cell_type": "markdown",
   "id": "c0de0f68",
   "metadata": {},
   "source": [
    "##### Step 1: Alice encrypts the messages and send it to Bob"
   ]
  },
  {
   "cell_type": "code",
   "execution_count": 13,
   "id": "06416e5e",
   "metadata": {},
   "outputs": [],
   "source": [
    "# Alice: prepare the messages to be encrypted and send to Bob\n",
    "alice_messages = [\"msg_1\", \"msg_2\", \"msg_3\"]\n",
    "alice_messages_encoded = [\n",
    "    int.from_bytes(msg.encode(\"utf8\"), \"big\") for msg in alice_messages\n",
    "]\n",
    "\n",
    "# Alice: create a secret key which is a random integer (make it larger to handle encoded messages)\n",
    "alice_secret_key = random.randint(0, 2**64)\n",
    "\n",
    "# Alice: encrypts each message with her secret key\n",
    "alice_messages_encrypted = [\n",
    "    alice_secret_key ^ message for message in alice_messages_encoded\n",
    "]\n",
    "\n",
    "# Alice: sends the encrypted messages to Bob\n",
    "bob_messages_encrypted = alice_messages_encrypted"
   ]
  },
  {
   "cell_type": "markdown",
   "id": "82bb67f1",
   "metadata": {},
   "source": [
    "##### Step 2: Bob encrypts the message with his secret key and sends it back to Alice"
   ]
  },
  {
   "cell_type": "code",
   "execution_count": 14,
   "id": "700140e2",
   "metadata": {},
   "outputs": [],
   "source": [
    "# Bob: wants to learn the 3rd message\n",
    "bob_message_to_decrypt = bob_messages_encrypted[2]\n",
    "\n",
    "# Bob: creates a secret key which is a random integer\n",
    "bob_secret_key = random.randint(0, 2**64)\n",
    "\n",
    "# Bob: encrypts the message with his secret key\n",
    "bob_message_to_decrypt_reencrypted = bob_message_to_decrypt ^ bob_secret_key\n",
    "\n",
    "# Bob: sends the encrypted message to Alice\n",
    "alice_message_to_decrypt = bob_message_to_decrypt_reencrypted"
   ]
  },
  {
   "cell_type": "markdown",
   "id": "5e435f81",
   "metadata": {},
   "source": [
    "##### Step 3: Alice decrypts the message from Bob and sends it back to Bob"
   ]
  },
  {
   "cell_type": "code",
   "execution_count": 15,
   "id": "b10bf0e4",
   "metadata": {},
   "outputs": [],
   "source": [
    "# Alice: decrypts the message with her key\n",
    "alice_message_decrypted = alice_message_to_decrypt ^ alice_secret_key\n",
    "\n",
    "# Alice: send message back to Bob\n",
    "bob_message_to_decrypt = alice_message_decrypted"
   ]
  },
  {
   "cell_type": "markdown",
   "id": "455ec806",
   "metadata": {},
   "source": [
    "##### Step 4: Bob decrypts the message from Alice"
   ]
  },
  {
   "cell_type": "code",
   "execution_count": 16,
   "id": "fc151b3f",
   "metadata": {},
   "outputs": [],
   "source": [
    "# Bob: decrypts the message with his key\n",
    "bob_message_decrypted = bob_message_to_decrypt ^ bob_secret_key\n",
    "\n",
    "# Convert the message from integer back to a string\n",
    "bob_message_final = bob_message_decrypted.to_bytes(\n",
    "    (bob_message_decrypted.bit_length() + 7) // 8, \"big\"\n",
    ").decode(\"utf8\")\n",
    "\n",
    "# Assert that the message is correct\n",
    "assert bob_message_final == alice_messages[2]"
   ]
  },
  {
   "cell_type": "markdown",
   "id": "0527c24c",
   "metadata": {},
   "source": [
    "### 2.2.3 OT in one step"
   ]
  },
  {
   "cell_type": "code",
   "execution_count": 17,
   "id": "7f107bb2",
   "metadata": {},
   "outputs": [],
   "source": [
    "# Public: r is a verifiably random number in integer\n",
    "r = int.from_bytes(SHA3_256.new(b\"1\").digest(), \"big\")\n",
    "\n",
    "# Generate a set of RSA keys in arithmetic progression\n",
    "def generate_ap_rsa_keys(\n",
    "    index_genuine_key, number_of_keys=3, progression_step=1000, key_size=3072\n",
    "):\n",
    "    # Generate the first key\n",
    "    key_i = RSA.generate(key_size)\n",
    "\n",
    "    # Create the set of RSA modulus n in arithmetic progression\n",
    "    n_set = [\n",
    "        key_i.n + (j - index_genuine_key) * progression_step\n",
    "        for j in range(number_of_keys)\n",
    "    ]\n",
    "\n",
    "    # Construct all the keys\n",
    "    e = 65537\n",
    "    private_key_set = [RSA.construct((n_set[j], e)) for j in range(number_of_keys)]\n",
    "    # Replace the ith key with key_i\n",
    "    private_key_set[index_genuine_key] = key_i\n",
    "\n",
    "    return private_key_set"
   ]
  },
  {
   "cell_type": "code",
   "execution_count": 18,
   "id": "5f1feb95",
   "metadata": {},
   "outputs": [],
   "source": [
    "# Bob: assume Bob wants to learn the 2nd message\n",
    "index_bob_message = 0\n",
    "\n",
    "# For each message, a unique key is generated\n",
    "number_of_keys_to_generate = len(alice_messages)\n",
    "\n",
    "# Bob: create a set of keys based on r to which Alice can verify they\n",
    "# all have a difference of r, thus proving that Bob only knows the secret key\n",
    "# to one of the public keys\n",
    "bob_private_key_set = generate_ap_rsa_keys(\n",
    "    index_genuine_key=index_bob_message,\n",
    "    number_of_keys=number_of_keys_to_generate,\n",
    "    progression_step=r,\n",
    ")\n",
    "\n",
    "# Bob: create the set of public keys from the private keys\n",
    "bob_public_key_set = [key.public_key() for key in bob_private_key_set]"
   ]
  },
  {
   "cell_type": "code",
   "execution_count": 19,
   "id": "8d711de2",
   "metadata": {},
   "outputs": [],
   "source": [
    "# Alice: use the public keys from Bob to encrypt her messages\n",
    "for j in range(number_of_keys_to_generate):\n",
    "    cipher = PKCS1_OAEP.new(bob_public_key_set[j])\n",
    "    alice_messages_encrypted[j] = cipher.encrypt(alice_messages[j].encode(\"utf8\"))\n",
    "\n",
    "\n",
    "# Alice: send the encrypted messages to Bob\n",
    "bob_messages_encrypted = alice_messages_encrypted"
   ]
  },
  {
   "cell_type": "code",
   "execution_count": 20,
   "id": "00795881",
   "metadata": {},
   "outputs": [],
   "source": [
    "# Bob: decrypt the message that Alice sent\n",
    "cipher = PKCS1_OAEP.new(bob_private_key_set[index_bob_message])\n",
    "bob_messages_decrypted = cipher.decrypt(\n",
    "    bob_messages_encrypted[index_bob_message]\n",
    ").decode(\"utf8\")"
   ]
  },
  {
   "cell_type": "code",
   "execution_count": 21,
   "id": "dbd5f018",
   "metadata": {},
   "outputs": [],
   "source": [
    "# Assert that the messages are correct\n",
    "assert bob_messages_decrypted == alice_messages[index_bob_message]"
   ]
  }
 ],
 "metadata": {
  "kernelspec": {
   "display_name": "Python 3 (ipykernel)",
   "language": "python",
   "name": "python3"
  },
  "language_info": {
   "codemirror_mode": {
    "name": "ipython",
    "version": 3
   },
   "file_extension": ".py",
   "mimetype": "text/x-python",
   "name": "python",
   "nbconvert_exporter": "python",
   "pygments_lexer": "ipython3",
   "version": "3.13.0"
  }
 },
 "nbformat": 4,
 "nbformat_minor": 5
}
